{
 "cells": [
  {
   "cell_type": "code",
   "execution_count": 1,
   "metadata": {},
   "outputs": [],
   "source": [
    "from IPython.display import HTML"
   ]
  },
  {
   "cell_type": "markdown",
   "metadata": {},
   "source": [
    "# <center> Data Mining and preprocessing\n",
    "# <center> NOTE!!! \n",
    "### <center> This notebook was originally created for building a new dataframe with features from 9 different datasets to explore if the Happiness-Index could be better explained with more information. Shortly after starting the analysis with the finished data set, it turned out that the original features of the Happiness Index were sufficient - except an additionally feature for \"Region\". The rest of my new dataset turned out to be unsuitable.\n",
    "### <center> The new data set was not completely unnecessary, however, as it enabled me to integrate the regions into the Happiness Index data set. \n",
    "### <center>So I split this notebook in two parts: The first part is the creation of my new dataset which I haven't used in my analysis. \n",
    "### <center> The second part is the creation of the dataframe for the regions which I used in my capstone-project.¶"
   ]
  },
  {
   "cell_type": "markdown",
   "metadata": {},
   "source": [
    "# <center> ---------------------------------- First part ----------------------------------"
   ]
  },
  {
   "cell_type": "markdown",
   "metadata": {},
   "source": [
    "### <center> Data Mining and preprocessing for my new dataset\n",
    "#### <center> Goal is the analysis of correlations between Freedom, Happiness, Religion, Safety, Life-expectancy, Gender-Equality, GDP_per_capita, Population, Peace, Freedom of speech, Corruption and Human development.\n",
    "#### <center> All data is from 2017, because it is the youngest year for which all data is available\n",
    "##### <center> The Global Multidimensional Poverty Index (MPI) just includes 105 countries (77% of global population), so I decided not to use it.¶"
   ]
  },
  {
   "cell_type": "markdown",
   "metadata": {},
   "source": [
    "#### <center>To collect the features I choosed 9 datasets, all found by kaggle.com. The source of the Original-Data is given in every description of the single dataset in this notebook "
   ]
  },
  {
   "cell_type": "code",
   "execution_count": 2,
   "metadata": {},
   "outputs": [],
   "source": [
    "import pandas as pd"
   ]
  },
  {
   "cell_type": "markdown",
   "metadata": {},
   "source": [
    "### <center>As my basic dataset I chose \"The Human Freedom Index\"\n",
    "The Human Freedom Index is constructed by the Cato Institute, Fraser Institute, and the Friedrich Naumann Foundation for Freedom in 2018 and presents the state of human freedom in the world based on a broad measure of personal, civil, and economic freedom. On a scale of 0 to 10, where 10 represents more freedom, the average human freedom rating for 162 countries in 2017 was 6.89. \n",
    "Most important areas and their corresponding column names of this dataset mentioned as follows:"
   ]
  },
  {
   "cell_type": "markdown",
   "metadata": {},
   "source": [
    "- Rule of Law (#pf_rol)\n",
    "- Security and Safety (#pf_ss)\n",
    "- Movement (#pf_movement)\n",
    "- Religion (#pf_religion)\n",
    "- Association, Assembly and Civil Society (#pf_association)\n",
    "- Expression and Information (#pf_expression)\n",
    "- Identity and Relationships (#pf_identity)\n",
    "- Size of Government (#ef_government)\n",
    "- Legal System and Property Rights (#ef_legal)\n",
    "- Access to Sound Money (#ef_money)\n",
    "- Freedom to Trade Internationally (#ef_trade)\n",
    "- Regulation of Credit, Labor and Business (#ef_regulation)\n",
    "\n"
   ]
  },
  {
   "cell_type": "markdown",
   "metadata": {},
   "source": [
    "##### Show all columns"
   ]
  },
  {
   "cell_type": "code",
   "execution_count": 3,
   "metadata": {},
   "outputs": [],
   "source": [
    "pd.set_option(\"display.max_columns\", None) # avoid hidden columns for easier exploration"
   ]
  },
  {
   "cell_type": "markdown",
   "metadata": {},
   "source": [
    "#### <center> Import dataset 2008 - 2017"
   ]
  },
  {
   "cell_type": "code",
   "execution_count": 4,
   "metadata": {},
   "outputs": [
    {
     "data": {
      "text/html": [
       "<div>\n",
       "<style scoped>\n",
       "    .dataframe tbody tr th:only-of-type {\n",
       "        vertical-align: middle;\n",
       "    }\n",
       "\n",
       "    .dataframe tbody tr th {\n",
       "        vertical-align: top;\n",
       "    }\n",
       "\n",
       "    .dataframe thead th {\n",
       "        text-align: right;\n",
       "    }\n",
       "</style>\n",
       "<table border=\"1\" class=\"dataframe\">\n",
       "  <thead>\n",
       "    <tr style=\"text-align: right;\">\n",
       "      <th></th>\n",
       "      <th>year</th>\n",
       "      <th>ISO_code</th>\n",
       "      <th>countries</th>\n",
       "      <th>region</th>\n",
       "      <th>hf_score</th>\n",
       "      <th>hf_rank</th>\n",
       "      <th>hf_quartile</th>\n",
       "      <th>pf_rol_procedural</th>\n",
       "      <th>pf_rol_civil</th>\n",
       "      <th>pf_rol_criminal</th>\n",
       "      <th>pf_rol</th>\n",
       "      <th>pf_ss_homicide</th>\n",
       "      <th>pf_ss_disappearances_disap</th>\n",
       "      <th>pf_ss_disappearances_violent</th>\n",
       "      <th>pf_ss_disappearances_organized</th>\n",
       "      <th>pf_ss_disappearances_fatalities</th>\n",
       "      <th>pf_ss_disappearances_injuries</th>\n",
       "      <th>pf_ss_disappearances</th>\n",
       "      <th>pf_ss_women_fgm</th>\n",
       "      <th>pf_ss_women_inheritance_widows</th>\n",
       "      <th>pf_ss_women_inheritance_daughters</th>\n",
       "      <th>pf_ss_women_inheritance</th>\n",
       "      <th>pf_ss_women</th>\n",
       "      <th>pf_ss</th>\n",
       "      <th>pf_movement_domestic</th>\n",
       "      <th>pf_movement_foreign</th>\n",
       "      <th>pf_movement_women</th>\n",
       "      <th>pf_movement</th>\n",
       "      <th>pf_religion_estop_establish</th>\n",
       "      <th>pf_religion_estop_operate</th>\n",
       "      <th>pf_religion_estop</th>\n",
       "      <th>pf_religion_harassment</th>\n",
       "      <th>pf_religion_restrictions</th>\n",
       "      <th>pf_religion</th>\n",
       "      <th>pf_association_association</th>\n",
       "      <th>pf_association_assembly</th>\n",
       "      <th>pf_association_political_establish</th>\n",
       "      <th>pf_association_political_operate</th>\n",
       "      <th>pf_association_political</th>\n",
       "      <th>pf_association_prof_establish</th>\n",
       "      <th>pf_association_prof_operate</th>\n",
       "      <th>pf_association_prof</th>\n",
       "      <th>pf_association_sport_establish</th>\n",
       "      <th>pf_association_sport_operate</th>\n",
       "      <th>pf_association_sport</th>\n",
       "      <th>pf_association</th>\n",
       "      <th>pf_expression_killed</th>\n",
       "      <th>pf_expression_jailed</th>\n",
       "      <th>pf_expression_influence</th>\n",
       "      <th>pf_expression_control</th>\n",
       "      <th>pf_expression_cable</th>\n",
       "      <th>pf_expression_newspapers</th>\n",
       "      <th>pf_expression_internet</th>\n",
       "      <th>pf_expression</th>\n",
       "      <th>pf_identity_legal</th>\n",
       "      <th>pf_identity_sex_male</th>\n",
       "      <th>pf_identity_sex_female</th>\n",
       "      <th>pf_identity_sex</th>\n",
       "      <th>pf_identity_divorce</th>\n",
       "      <th>pf_identity</th>\n",
       "      <th>pf_score</th>\n",
       "      <th>pf_rank</th>\n",
       "      <th>ef_government_consumption</th>\n",
       "      <th>ef_government_transfers</th>\n",
       "      <th>ef_government_enterprises</th>\n",
       "      <th>ef_government_tax_income</th>\n",
       "      <th>ef_government_tax_payroll</th>\n",
       "      <th>ef_government_tax</th>\n",
       "      <th>ef_government_soa</th>\n",
       "      <th>ef_government</th>\n",
       "      <th>ef_legal_judicial</th>\n",
       "      <th>ef_legal_courts</th>\n",
       "      <th>ef_legal_protection</th>\n",
       "      <th>ef_legal_military</th>\n",
       "      <th>ef_legal_integrity</th>\n",
       "      <th>ef_legal_enforcement</th>\n",
       "      <th>ef_legal_restrictions</th>\n",
       "      <th>ef_legal_police</th>\n",
       "      <th>ef_legal_crime</th>\n",
       "      <th>ef_legal_gender</th>\n",
       "      <th>ef_legal</th>\n",
       "      <th>ef_money_growth</th>\n",
       "      <th>ef_money_sd</th>\n",
       "      <th>ef_money_inflation</th>\n",
       "      <th>ef_money_currency</th>\n",
       "      <th>ef_money</th>\n",
       "      <th>ef_trade_tariffs_revenue</th>\n",
       "      <th>ef_trade_tariffs_mean</th>\n",
       "      <th>ef_trade_tariffs_sd</th>\n",
       "      <th>ef_trade_tariffs</th>\n",
       "      <th>ef_trade_regulatory_nontariff</th>\n",
       "      <th>ef_trade_regulatory_compliance</th>\n",
       "      <th>ef_trade_regulatory</th>\n",
       "      <th>ef_trade_black</th>\n",
       "      <th>ef_trade_movement_foreign</th>\n",
       "      <th>ef_trade_movement_capital</th>\n",
       "      <th>ef_trade_movement_visit</th>\n",
       "      <th>ef_trade_movement</th>\n",
       "      <th>ef_trade</th>\n",
       "      <th>ef_regulation_credit_ownership</th>\n",
       "      <th>ef_regulation_credit_private</th>\n",
       "      <th>ef_regulation_credit_interest</th>\n",
       "      <th>ef_regulation_credit</th>\n",
       "      <th>ef_regulation_labor_minwage</th>\n",
       "      <th>ef_regulation_labor_firing</th>\n",
       "      <th>ef_regulation_labor_bargain</th>\n",
       "      <th>ef_regulation_labor_hours</th>\n",
       "      <th>ef_regulation_labor_dismissal</th>\n",
       "      <th>ef_regulation_labor_conscription</th>\n",
       "      <th>ef_regulation_labor</th>\n",
       "      <th>ef_regulation_business_adm</th>\n",
       "      <th>ef_regulation_business_bureaucracy</th>\n",
       "      <th>ef_regulation_business_start</th>\n",
       "      <th>ef_regulation_business_bribes</th>\n",
       "      <th>ef_regulation_business_licensing</th>\n",
       "      <th>ef_regulation_business_compliance</th>\n",
       "      <th>ef_regulation_business</th>\n",
       "      <th>ef_regulation</th>\n",
       "      <th>ef_score</th>\n",
       "      <th>ef_rank</th>\n",
       "    </tr>\n",
       "  </thead>\n",
       "  <tbody>\n",
       "    <tr>\n",
       "      <th>0</th>\n",
       "      <td>2017</td>\n",
       "      <td>ALB</td>\n",
       "      <td>Albania</td>\n",
       "      <td>Eastern Europe</td>\n",
       "      <td>7.84</td>\n",
       "      <td>38</td>\n",
       "      <td>1</td>\n",
       "      <td>6.7</td>\n",
       "      <td>4.5</td>\n",
       "      <td>4.7</td>\n",
       "      <td>5.3</td>\n",
       "      <td>9.1</td>\n",
       "      <td>10</td>\n",
       "      <td>10</td>\n",
       "      <td>10</td>\n",
       "      <td>10</td>\n",
       "      <td>10</td>\n",
       "      <td>10</td>\n",
       "      <td>10</td>\n",
       "      <td>-</td>\n",
       "      <td>-</td>\n",
       "      <td>7.5</td>\n",
       "      <td>8.8</td>\n",
       "      <td>9.3</td>\n",
       "      <td>10</td>\n",
       "      <td>10</td>\n",
       "      <td>10</td>\n",
       "      <td>10</td>\n",
       "      <td>-</td>\n",
       "      <td>-</td>\n",
       "      <td>10</td>\n",
       "      <td>9.6</td>\n",
       "      <td>8</td>\n",
       "      <td>9.2</td>\n",
       "      <td>10</td>\n",
       "      <td>10</td>\n",
       "      <td>-</td>\n",
       "      <td>-</td>\n",
       "      <td>10</td>\n",
       "      <td>-</td>\n",
       "      <td>-</td>\n",
       "      <td>10</td>\n",
       "      <td>-</td>\n",
       "      <td>-</td>\n",
       "      <td>10</td>\n",
       "      <td>10</td>\n",
       "      <td>10</td>\n",
       "      <td>10</td>\n",
       "      <td>5</td>\n",
       "      <td>5.3</td>\n",
       "      <td>10</td>\n",
       "      <td>10</td>\n",
       "      <td>10</td>\n",
       "      <td>8.6</td>\n",
       "      <td>0</td>\n",
       "      <td>10</td>\n",
       "      <td>10</td>\n",
       "      <td>10</td>\n",
       "      <td>7.5</td>\n",
       "      <td>5.8</td>\n",
       "      <td>8.01</td>\n",
       "      <td>46</td>\n",
       "      <td>8.1</td>\n",
       "      <td>7.3</td>\n",
       "      <td>8</td>\n",
       "      <td>9</td>\n",
       "      <td>7</td>\n",
       "      <td>8</td>\n",
       "      <td>6.2</td>\n",
       "      <td>7.5</td>\n",
       "      <td>2.5</td>\n",
       "      <td>3.1</td>\n",
       "      <td>4.6</td>\n",
       "      <td>8.3</td>\n",
       "      <td>4.2</td>\n",
       "      <td>4.4</td>\n",
       "      <td>6.6</td>\n",
       "      <td>6.8</td>\n",
       "      <td>6.2</td>\n",
       "      <td>1</td>\n",
       "      <td>5.1</td>\n",
       "      <td>9.3</td>\n",
       "      <td>9.7</td>\n",
       "      <td>9.6</td>\n",
       "      <td>10</td>\n",
       "      <td>9.6</td>\n",
       "      <td>9.6</td>\n",
       "      <td>9.3</td>\n",
       "      <td>8.1</td>\n",
       "      <td>9</td>\n",
       "      <td>6</td>\n",
       "      <td>9.4</td>\n",
       "      <td>7.7</td>\n",
       "      <td>10</td>\n",
       "      <td>6.3</td>\n",
       "      <td>5.4</td>\n",
       "      <td>8.3</td>\n",
       "      <td>6.7</td>\n",
       "      <td>8.3</td>\n",
       "      <td>10</td>\n",
       "      <td>9.1</td>\n",
       "      <td>10</td>\n",
       "      <td>9.7</td>\n",
       "      <td>5.6</td>\n",
       "      <td>5.4</td>\n",
       "      <td>6.4</td>\n",
       "      <td>8</td>\n",
       "      <td>6.3</td>\n",
       "      <td>10</td>\n",
       "      <td>6.9</td>\n",
       "      <td>6.3</td>\n",
       "      <td>6.7</td>\n",
       "      <td>9.7</td>\n",
       "      <td>4.1</td>\n",
       "      <td>6</td>\n",
       "      <td>7.2</td>\n",
       "      <td>6.7</td>\n",
       "      <td>7.8</td>\n",
       "      <td>7.67</td>\n",
       "      <td>30</td>\n",
       "    </tr>\n",
       "    <tr>\n",
       "      <th>1</th>\n",
       "      <td>2017</td>\n",
       "      <td>DZA</td>\n",
       "      <td>Algeria</td>\n",
       "      <td>Middle East &amp; North Africa</td>\n",
       "      <td>4.99</td>\n",
       "      <td>155</td>\n",
       "      <td>4</td>\n",
       "      <td>-</td>\n",
       "      <td>-</td>\n",
       "      <td>-</td>\n",
       "      <td>3.8</td>\n",
       "      <td>9.5</td>\n",
       "      <td>10</td>\n",
       "      <td>9.5</td>\n",
       "      <td>5</td>\n",
       "      <td>9.9</td>\n",
       "      <td>9.9</td>\n",
       "      <td>8.9</td>\n",
       "      <td>10</td>\n",
       "      <td>-</td>\n",
       "      <td>-</td>\n",
       "      <td>0</td>\n",
       "      <td>5</td>\n",
       "      <td>7.8</td>\n",
       "      <td>10</td>\n",
       "      <td>5</td>\n",
       "      <td>2.5</td>\n",
       "      <td>5.8</td>\n",
       "      <td>-</td>\n",
       "      <td>-</td>\n",
       "      <td>5</td>\n",
       "      <td>6.9</td>\n",
       "      <td>3</td>\n",
       "      <td>4.9</td>\n",
       "      <td>5</td>\n",
       "      <td>5</td>\n",
       "      <td>-</td>\n",
       "      <td>-</td>\n",
       "      <td>5</td>\n",
       "      <td>-</td>\n",
       "      <td>-</td>\n",
       "      <td>5</td>\n",
       "      <td>-</td>\n",
       "      <td>-</td>\n",
       "      <td>5</td>\n",
       "      <td>5</td>\n",
       "      <td>10</td>\n",
       "      <td>9.5</td>\n",
       "      <td>2.7</td>\n",
       "      <td>4</td>\n",
       "      <td>10</td>\n",
       "      <td>7.5</td>\n",
       "      <td>7.5</td>\n",
       "      <td>7.3</td>\n",
       "      <td>-</td>\n",
       "      <td>0</td>\n",
       "      <td>0</td>\n",
       "      <td>0</td>\n",
       "      <td>0</td>\n",
       "      <td>0</td>\n",
       "      <td>5.2</td>\n",
       "      <td>146</td>\n",
       "      <td>2.7</td>\n",
       "      <td>7.8</td>\n",
       "      <td>0</td>\n",
       "      <td>7</td>\n",
       "      <td>2</td>\n",
       "      <td>4.5</td>\n",
       "      <td>2.9</td>\n",
       "      <td>3.6</td>\n",
       "      <td>4.3</td>\n",
       "      <td>4.3</td>\n",
       "      <td>4.8</td>\n",
       "      <td>4.2</td>\n",
       "      <td>5</td>\n",
       "      <td>4.4</td>\n",
       "      <td>6.6</td>\n",
       "      <td>6.1</td>\n",
       "      <td>6.7</td>\n",
       "      <td>0.8</td>\n",
       "      <td>4.7</td>\n",
       "      <td>7</td>\n",
       "      <td>8.5</td>\n",
       "      <td>8.9</td>\n",
       "      <td>5</td>\n",
       "      <td>7.3</td>\n",
       "      <td>8.5</td>\n",
       "      <td>6.2</td>\n",
       "      <td>5.9</td>\n",
       "      <td>6.9</td>\n",
       "      <td>4.8</td>\n",
       "      <td>0.5</td>\n",
       "      <td>2.6</td>\n",
       "      <td>0</td>\n",
       "      <td>3.7</td>\n",
       "      <td>0</td>\n",
       "      <td>1.1</td>\n",
       "      <td>1.6</td>\n",
       "      <td>2.8</td>\n",
       "      <td>0</td>\n",
       "      <td>5.3</td>\n",
       "      <td>10</td>\n",
       "      <td>5.1</td>\n",
       "      <td>5.6</td>\n",
       "      <td>4.1</td>\n",
       "      <td>6</td>\n",
       "      <td>6</td>\n",
       "      <td>7.8</td>\n",
       "      <td>3</td>\n",
       "      <td>5.4</td>\n",
       "      <td>3.7</td>\n",
       "      <td>1.8</td>\n",
       "      <td>9.3</td>\n",
       "      <td>3.8</td>\n",
       "      <td>8.7</td>\n",
       "      <td>7</td>\n",
       "      <td>5.7</td>\n",
       "      <td>5.4</td>\n",
       "      <td>4.77</td>\n",
       "      <td>159</td>\n",
       "    </tr>\n",
       "    <tr>\n",
       "      <th>2</th>\n",
       "      <td>2017</td>\n",
       "      <td>AGO</td>\n",
       "      <td>Angola</td>\n",
       "      <td>Sub-Saharan Africa</td>\n",
       "      <td>5.4</td>\n",
       "      <td>151</td>\n",
       "      <td>4</td>\n",
       "      <td>-</td>\n",
       "      <td>-</td>\n",
       "      <td>-</td>\n",
       "      <td>3.4</td>\n",
       "      <td>8.1</td>\n",
       "      <td>10</td>\n",
       "      <td>9.7</td>\n",
       "      <td>7.5</td>\n",
       "      <td>9.9</td>\n",
       "      <td>7.2</td>\n",
       "      <td>8.9</td>\n",
       "      <td>10</td>\n",
       "      <td>-</td>\n",
       "      <td>-</td>\n",
       "      <td>5</td>\n",
       "      <td>7.5</td>\n",
       "      <td>8.1</td>\n",
       "      <td>5</td>\n",
       "      <td>5</td>\n",
       "      <td>10</td>\n",
       "      <td>6.7</td>\n",
       "      <td>-</td>\n",
       "      <td>-</td>\n",
       "      <td>10</td>\n",
       "      <td>8.9</td>\n",
       "      <td>7.5</td>\n",
       "      <td>8.8</td>\n",
       "      <td>2.5</td>\n",
       "      <td>2.5</td>\n",
       "      <td>-</td>\n",
       "      <td>-</td>\n",
       "      <td>2.5</td>\n",
       "      <td>-</td>\n",
       "      <td>-</td>\n",
       "      <td>5</td>\n",
       "      <td>-</td>\n",
       "      <td>-</td>\n",
       "      <td>7.5</td>\n",
       "      <td>4</td>\n",
       "      <td>10</td>\n",
       "      <td>10</td>\n",
       "      <td>2.7</td>\n",
       "      <td>2.5</td>\n",
       "      <td>7.5</td>\n",
       "      <td>5</td>\n",
       "      <td>7.5</td>\n",
       "      <td>6.5</td>\n",
       "      <td>10</td>\n",
       "      <td>0</td>\n",
       "      <td>0</td>\n",
       "      <td>0</td>\n",
       "      <td>5</td>\n",
       "      <td>5</td>\n",
       "      <td>5.98</td>\n",
       "      <td>121</td>\n",
       "      <td>6.3</td>\n",
       "      <td>8.9</td>\n",
       "      <td>6</td>\n",
       "      <td>10</td>\n",
       "      <td>9</td>\n",
       "      <td>9.5</td>\n",
       "      <td>3.1</td>\n",
       "      <td>6.8</td>\n",
       "      <td>1.4</td>\n",
       "      <td>1.7</td>\n",
       "      <td>3.3</td>\n",
       "      <td>3.3</td>\n",
       "      <td>4.2</td>\n",
       "      <td>2.3</td>\n",
       "      <td>5.5</td>\n",
       "      <td>3.4</td>\n",
       "      <td>4.3</td>\n",
       "      <td>0.8</td>\n",
       "      <td>3</td>\n",
       "      <td>9.4</td>\n",
       "      <td>4.2</td>\n",
       "      <td>3.7</td>\n",
       "      <td>5</td>\n",
       "      <td>5.6</td>\n",
       "      <td>9.2</td>\n",
       "      <td>7.7</td>\n",
       "      <td>4.3</td>\n",
       "      <td>7.1</td>\n",
       "      <td>4.9</td>\n",
       "      <td>2.5</td>\n",
       "      <td>3.7</td>\n",
       "      <td>0</td>\n",
       "      <td>2.9</td>\n",
       "      <td>3.1</td>\n",
       "      <td>0.1</td>\n",
       "      <td>2</td>\n",
       "      <td>3.2</td>\n",
       "      <td>5</td>\n",
       "      <td>9.2</td>\n",
       "      <td>6</td>\n",
       "      <td>6.7</td>\n",
       "      <td>10</td>\n",
       "      <td>4.4</td>\n",
       "      <td>7.2</td>\n",
       "      <td>4</td>\n",
       "      <td>6.6</td>\n",
       "      <td>0</td>\n",
       "      <td>5.4</td>\n",
       "      <td>2.4</td>\n",
       "      <td>1.3</td>\n",
       "      <td>8.7</td>\n",
       "      <td>1.9</td>\n",
       "      <td>8.1</td>\n",
       "      <td>6.8</td>\n",
       "      <td>4.9</td>\n",
       "      <td>5.7</td>\n",
       "      <td>4.83</td>\n",
       "      <td>158</td>\n",
       "    </tr>\n",
       "  </tbody>\n",
       "</table>\n",
       "</div>"
      ],
      "text/plain": [
       "   year ISO_code countries                      region hf_score hf_rank  \\\n",
       "0  2017      ALB   Albania              Eastern Europe     7.84      38   \n",
       "1  2017      DZA   Algeria  Middle East & North Africa     4.99     155   \n",
       "2  2017      AGO    Angola          Sub-Saharan Africa      5.4     151   \n",
       "\n",
       "  hf_quartile pf_rol_procedural pf_rol_civil pf_rol_criminal pf_rol  \\\n",
       "0           1               6.7          4.5             4.7    5.3   \n",
       "1           4                 -            -               -    3.8   \n",
       "2           4                 -            -               -    3.4   \n",
       "\n",
       "  pf_ss_homicide pf_ss_disappearances_disap pf_ss_disappearances_violent  \\\n",
       "0            9.1                         10                           10   \n",
       "1            9.5                         10                          9.5   \n",
       "2            8.1                         10                          9.7   \n",
       "\n",
       "  pf_ss_disappearances_organized pf_ss_disappearances_fatalities  \\\n",
       "0                             10                              10   \n",
       "1                              5                             9.9   \n",
       "2                            7.5                             9.9   \n",
       "\n",
       "  pf_ss_disappearances_injuries pf_ss_disappearances pf_ss_women_fgm  \\\n",
       "0                            10                   10              10   \n",
       "1                           9.9                  8.9              10   \n",
       "2                           7.2                  8.9              10   \n",
       "\n",
       "  pf_ss_women_inheritance_widows pf_ss_women_inheritance_daughters  \\\n",
       "0                              -                                 -   \n",
       "1                              -                                 -   \n",
       "2                              -                                 -   \n",
       "\n",
       "  pf_ss_women_inheritance pf_ss_women pf_ss pf_movement_domestic  \\\n",
       "0                     7.5         8.8   9.3                   10   \n",
       "1                       0           5   7.8                   10   \n",
       "2                       5         7.5   8.1                    5   \n",
       "\n",
       "  pf_movement_foreign pf_movement_women pf_movement  \\\n",
       "0                  10                10          10   \n",
       "1                   5               2.5         5.8   \n",
       "2                   5                10         6.7   \n",
       "\n",
       "  pf_religion_estop_establish pf_religion_estop_operate pf_religion_estop  \\\n",
       "0                           -                         -                10   \n",
       "1                           -                         -                 5   \n",
       "2                           -                         -                10   \n",
       "\n",
       "  pf_religion_harassment pf_religion_restrictions pf_religion  \\\n",
       "0                    9.6                        8         9.2   \n",
       "1                    6.9                        3         4.9   \n",
       "2                    8.9                      7.5         8.8   \n",
       "\n",
       "  pf_association_association pf_association_assembly  \\\n",
       "0                         10                      10   \n",
       "1                          5                       5   \n",
       "2                        2.5                     2.5   \n",
       "\n",
       "  pf_association_political_establish pf_association_political_operate  \\\n",
       "0                                  -                                -   \n",
       "1                                  -                                -   \n",
       "2                                  -                                -   \n",
       "\n",
       "  pf_association_political pf_association_prof_establish  \\\n",
       "0                       10                             -   \n",
       "1                        5                             -   \n",
       "2                      2.5                             -   \n",
       "\n",
       "  pf_association_prof_operate pf_association_prof  \\\n",
       "0                           -                  10   \n",
       "1                           -                   5   \n",
       "2                           -                   5   \n",
       "\n",
       "  pf_association_sport_establish pf_association_sport_operate  \\\n",
       "0                              -                            -   \n",
       "1                              -                            -   \n",
       "2                              -                            -   \n",
       "\n",
       "  pf_association_sport pf_association pf_expression_killed  \\\n",
       "0                   10             10                   10   \n",
       "1                    5              5                   10   \n",
       "2                  7.5              4                   10   \n",
       "\n",
       "  pf_expression_jailed pf_expression_influence pf_expression_control  \\\n",
       "0                   10                       5                   5.3   \n",
       "1                  9.5                     2.7                     4   \n",
       "2                   10                     2.7                   2.5   \n",
       "\n",
       "  pf_expression_cable pf_expression_newspapers pf_expression_internet  \\\n",
       "0                  10                       10                     10   \n",
       "1                  10                      7.5                    7.5   \n",
       "2                 7.5                        5                    7.5   \n",
       "\n",
       "  pf_expression pf_identity_legal pf_identity_sex_male pf_identity_sex_female  \\\n",
       "0           8.6                 0                   10                     10   \n",
       "1           7.3                 -                    0                      0   \n",
       "2           6.5                10                    0                      0   \n",
       "\n",
       "  pf_identity_sex pf_identity_divorce pf_identity pf_score pf_rank  \\\n",
       "0              10                 7.5         5.8     8.01      46   \n",
       "1               0                   0           0      5.2     146   \n",
       "2               0                   5           5     5.98     121   \n",
       "\n",
       "  ef_government_consumption ef_government_transfers ef_government_enterprises  \\\n",
       "0                       8.1                     7.3                         8   \n",
       "1                       2.7                     7.8                         0   \n",
       "2                       6.3                     8.9                         6   \n",
       "\n",
       "  ef_government_tax_income ef_government_tax_payroll ef_government_tax  \\\n",
       "0                        9                         7                 8   \n",
       "1                        7                         2               4.5   \n",
       "2                       10                         9               9.5   \n",
       "\n",
       "  ef_government_soa ef_government ef_legal_judicial ef_legal_courts  \\\n",
       "0               6.2           7.5               2.5             3.1   \n",
       "1               2.9           3.6               4.3             4.3   \n",
       "2               3.1           6.8               1.4             1.7   \n",
       "\n",
       "  ef_legal_protection ef_legal_military ef_legal_integrity  \\\n",
       "0                 4.6               8.3                4.2   \n",
       "1                 4.8               4.2                  5   \n",
       "2                 3.3               3.3                4.2   \n",
       "\n",
       "  ef_legal_enforcement ef_legal_restrictions ef_legal_police ef_legal_crime  \\\n",
       "0                  4.4                   6.6             6.8            6.2   \n",
       "1                  4.4                   6.6             6.1            6.7   \n",
       "2                  2.3                   5.5             3.4            4.3   \n",
       "\n",
       "  ef_legal_gender ef_legal ef_money_growth ef_money_sd ef_money_inflation  \\\n",
       "0               1      5.1             9.3         9.7                9.6   \n",
       "1             0.8      4.7               7         8.5                8.9   \n",
       "2             0.8        3             9.4         4.2                3.7   \n",
       "\n",
       "  ef_money_currency ef_money ef_trade_tariffs_revenue ef_trade_tariffs_mean  \\\n",
       "0                10      9.6                      9.6                   9.3   \n",
       "1                 5      7.3                      8.5                   6.2   \n",
       "2                 5      5.6                      9.2                   7.7   \n",
       "\n",
       "  ef_trade_tariffs_sd ef_trade_tariffs ef_trade_regulatory_nontariff  \\\n",
       "0                 8.1                9                             6   \n",
       "1                 5.9              6.9                           4.8   \n",
       "2                 4.3              7.1                           4.9   \n",
       "\n",
       "  ef_trade_regulatory_compliance ef_trade_regulatory ef_trade_black  \\\n",
       "0                            9.4                 7.7             10   \n",
       "1                            0.5                 2.6              0   \n",
       "2                            2.5                 3.7              0   \n",
       "\n",
       "  ef_trade_movement_foreign ef_trade_movement_capital ef_trade_movement_visit  \\\n",
       "0                       6.3                       5.4                     8.3   \n",
       "1                       3.7                         0                     1.1   \n",
       "2                       2.9                       3.1                     0.1   \n",
       "\n",
       "  ef_trade_movement ef_trade ef_regulation_credit_ownership  \\\n",
       "0               6.7      8.3                             10   \n",
       "1               1.6      2.8                              0   \n",
       "2                 2      3.2                              5   \n",
       "\n",
       "  ef_regulation_credit_private ef_regulation_credit_interest  \\\n",
       "0                          9.1                            10   \n",
       "1                          5.3                            10   \n",
       "2                          9.2                             6   \n",
       "\n",
       "  ef_regulation_credit ef_regulation_labor_minwage ef_regulation_labor_firing  \\\n",
       "0                  9.7                         5.6                        5.4   \n",
       "1                  5.1                         5.6                        4.1   \n",
       "2                  6.7                          10                        4.4   \n",
       "\n",
       "  ef_regulation_labor_bargain ef_regulation_labor_hours  \\\n",
       "0                         6.4                         8   \n",
       "1                           6                         6   \n",
       "2                         7.2                         4   \n",
       "\n",
       "  ef_regulation_labor_dismissal ef_regulation_labor_conscription  \\\n",
       "0                           6.3                               10   \n",
       "1                           7.8                                3   \n",
       "2                           6.6                                0   \n",
       "\n",
       "  ef_regulation_labor ef_regulation_business_adm  \\\n",
       "0                 6.9                        6.3   \n",
       "1                 5.4                        3.7   \n",
       "2                 5.4                        2.4   \n",
       "\n",
       "  ef_regulation_business_bureaucracy ef_regulation_business_start  \\\n",
       "0                                6.7                          9.7   \n",
       "1                                1.8                          9.3   \n",
       "2                                1.3                          8.7   \n",
       "\n",
       "  ef_regulation_business_bribes ef_regulation_business_licensing  \\\n",
       "0                           4.1                                6   \n",
       "1                           3.8                              8.7   \n",
       "2                           1.9                              8.1   \n",
       "\n",
       "  ef_regulation_business_compliance ef_regulation_business ef_regulation  \\\n",
       "0                               7.2                    6.7           7.8   \n",
       "1                                 7                    5.7           5.4   \n",
       "2                               6.8                    4.9           5.7   \n",
       "\n",
       "  ef_score ef_rank  \n",
       "0     7.67      30  \n",
       "1     4.77     159  \n",
       "2     4.83     158  "
      ]
     },
     "execution_count": 4,
     "metadata": {},
     "output_type": "execute_result"
    }
   ],
   "source": [
    "df_2017 = pd.read_csv(\"files/hfi_cc_2019.csv\")\n",
    "df_2017.head(3)"
   ]
  },
  {
   "cell_type": "code",
   "execution_count": 5,
   "metadata": {},
   "outputs": [
    {
     "data": {
      "text/plain": [
       "(1620, 120)"
      ]
     },
     "execution_count": 5,
     "metadata": {},
     "output_type": "execute_result"
    }
   ],
   "source": [
    "df_2017.shape"
   ]
  },
  {
   "cell_type": "markdown",
   "metadata": {},
   "source": [
    "##### Looking for the Data-Types"
   ]
  },
  {
   "cell_type": "code",
   "execution_count": 6,
   "metadata": {},
   "outputs": [
    {
     "name": "stdout",
     "output_type": "stream",
     "text": [
      "<class 'pandas.core.frame.DataFrame'>\n",
      "RangeIndex: 1620 entries, 0 to 1619\n",
      "Columns: 120 entries, year to ef_rank\n",
      "dtypes: int64(1), object(119)\n",
      "memory usage: 1.5+ MB\n"
     ]
    }
   ],
   "source": [
    "df_2017.info()"
   ]
  },
  {
   "cell_type": "markdown",
   "metadata": {},
   "source": [
    "#### <center>Because the columns with numbers are all Strings (except \"year\" = int64), I create a function to change the Data-types to float64"
   ]
  },
  {
   "cell_type": "code",
   "execution_count": 7,
   "metadata": {},
   "outputs": [
    {
     "name": "stdout",
     "output_type": "stream",
     "text": [
      "<class 'pandas.core.frame.DataFrame'>\n",
      "RangeIndex: 1620 entries, 0 to 1619\n",
      "Columns: 120 entries, year to ef_rank\n",
      "dtypes: float64(116), int64(1), object(3)\n",
      "memory usage: 1.5+ MB\n"
     ]
    }
   ],
   "source": [
    "a = list(df_2017.columns.values) # Create a columns-List\n",
    "del a[1:4] # Delete the columns with no numbers (\"ISO_code\", \"countries\" and \"region\")\n",
    "def changetype(i): # Function to change Datatype for every single column (116 columns has to be changed)\n",
    "    for i in a:\n",
    "        df_2017[i] = pd.to_numeric(df_2017[i], errors='coerce')\n",
    "changetype(a)\n",
    "df_2017.info()"
   ]
  },
  {
   "cell_type": "markdown",
   "metadata": {},
   "source": [
    "## <center> Creating a Dataframe \"basic\", which only includes data from 2017, based on the dataset \"df_2017\""
   ]
  },
  {
   "cell_type": "code",
   "execution_count": 8,
   "metadata": {},
   "outputs": [
    {
     "data": {
      "text/plain": [
       "(162, 120)"
      ]
     },
     "execution_count": 8,
     "metadata": {},
     "output_type": "execute_result"
    }
   ],
   "source": [
    "basic = df_2017[df_2017['year'] == 2017]\n",
    "basic.shape"
   ]
  },
  {
   "cell_type": "markdown",
   "metadata": {},
   "source": [
    "##### Looking for missing values"
   ]
  },
  {
   "cell_type": "code",
   "execution_count": 9,
   "metadata": {},
   "outputs": [
    {
     "data": {
      "text/plain": [
       "ef_trade_tariffs                        1\n",
       "ef_trade_movement_visit                 1\n",
       "ef_trade_movement_capital               1\n",
       "pf_movement_women                       1\n",
       "pf_movement_foreign                     1\n",
       "pf_religion                             1\n",
       "pf_movement_domestic                    1\n",
       "ef_legal_enforcement                    1\n",
       "pf_ss_disappearances_disap              1\n",
       "pf_identity_divorce                     1\n",
       "pf_ss_women_inheritance                 2\n",
       "ef_trade_regulatory_compliance          2\n",
       "ef_regulation_credit_interest           2\n",
       "ef_trade_tariffs_sd                     2\n",
       "ef_legal_restrictions                   2\n",
       "pf_religion_harassment                  2\n",
       "pf_religion_restrictions                2\n",
       "ef_trade_tariffs_mean                   2\n",
       "ef_regulation_business_licensing        3\n",
       "ef_trade_regulatory_nontariff           3\n",
       "ef_regulation_labor_dismissal           3\n",
       "ef_government_soa                       4\n",
       "ef_government_tax_payroll               4\n",
       "ef_legal_protection                     5\n",
       "ef_legal_judicial                       6\n",
       "ef_government_transfers                 9\n",
       "ef_regulation_business_bribes          10\n",
       "ef_trade_movement_foreign              10\n",
       "ef_legal_crime                         10\n",
       "ef_regulation_credit_ownership         11\n",
       "pf_ss_disappearances_organized         11\n",
       "ef_trade_tariffs_revenue               11\n",
       "ef_legal_police                        14\n",
       "ef_regulation_labor_firing             15\n",
       "ef_regulation_labor_bargain            15\n",
       "ef_regulation_business_adm             15\n",
       "ef_legal_integrity                     25\n",
       "pf_association_political               26\n",
       "pf_association_assembly                26\n",
       "pf_association_association             26\n",
       "pf_religion_estop                      26\n",
       "pf_association_sport                   26\n",
       "pf_association_prof                    26\n",
       "pf_expression_internet                 26\n",
       "pf_association                         26\n",
       "pf_expression_newspapers               28\n",
       "pf_expression_cable                    28\n",
       "pf_rol_criminal                        57\n",
       "pf_rol_civil                           57\n",
       "pf_rol_procedural                      57\n",
       "pf_identity_legal                      59\n",
       "pf_association_sport_operate          162\n",
       "pf_association_sport_establish        162\n",
       "pf_association_prof_operate           162\n",
       "pf_association_prof_establish         162\n",
       "pf_association_political_operate      162\n",
       "pf_association_political_establish    162\n",
       "pf_religion_estop_operate             162\n",
       "pf_religion_estop_establish           162\n",
       "pf_ss_women_inheritance_daughters     162\n",
       "pf_ss_women_inheritance_widows        162\n",
       "dtype: int64"
      ]
     },
     "execution_count": 9,
     "metadata": {},
     "output_type": "execute_result"
    }
   ],
   "source": [
    "null = basic.columns[basic.isnull().any()] # getting the Columns with missing values\n",
    "nulist = basic[null].isnull().sum() # sum them for all these columns\n",
    "pd.set_option(\"display.max_rows\", None) # I want to see all rows\n",
    "nulist.sort_values(ascending=True) # show the list"
   ]
  },
  {
   "cell_type": "markdown",
   "metadata": {},
   "source": [
    "##### Deleting the 10 completly empty columns"
   ]
  },
  {
   "cell_type": "code",
   "execution_count": 10,
   "metadata": {},
   "outputs": [
    {
     "name": "stderr",
     "output_type": "stream",
     "text": [
      "/opt/anaconda3/lib/python3.8/site-packages/pandas/core/frame.py:3990: SettingWithCopyWarning: \n",
      "A value is trying to be set on a copy of a slice from a DataFrame\n",
      "\n",
      "See the caveats in the documentation: https://pandas.pydata.org/pandas-docs/stable/user_guide/indexing.html#returning-a-view-versus-a-copy\n",
      "  return super().drop(\n"
     ]
    }
   ],
   "source": [
    "basic.drop([\"pf_association_sport_operate\", \"pf_association_sport_establish\", \n",
    "            \"pf_association_prof_operate\", \"pf_association_prof_establish\", \n",
    "            \"pf_association_political_operate\", \"pf_association_political_establish\", \n",
    "            \"pf_religion_estop_operate\", \"pf_religion_estop_establish\", \n",
    "            \"pf_ss_women_inheritance_daughters\", \"pf_ss_women_inheritance_widows\"], axis = 1, inplace = True)"
   ]
  },
  {
   "cell_type": "code",
   "execution_count": 11,
   "metadata": {},
   "outputs": [
    {
     "data": {
      "text/plain": [
       "(162, 110)"
      ]
     },
     "execution_count": 11,
     "metadata": {},
     "output_type": "execute_result"
    }
   ],
   "source": [
    "basic.shape"
   ]
  },
  {
   "cell_type": "markdown",
   "metadata": {},
   "source": [
    "### <center>What columns from the \"freedom\"-dataset do I put sure into my new dataset?"
   ]
  },
  {
   "cell_type": "code",
   "execution_count": 12,
   "metadata": {},
   "outputs": [
    {
     "name": "stdout",
     "output_type": "stream",
     "text": [
      "['year', 'ISO_code', 'countries', 'region', 'hf_score', 'hf_rank', 'hf_quartile', 'pf_rol_procedural', 'pf_rol_civil', 'pf_rol_criminal', 'pf_rol', 'pf_ss_homicide', 'pf_ss_disappearances_disap', 'pf_ss_disappearances_violent', 'pf_ss_disappearances_organized', 'pf_ss_disappearances_fatalities', 'pf_ss_disappearances_injuries', 'pf_ss_disappearances', 'pf_ss_women_fgm', 'pf_ss_women_inheritance', 'pf_ss_women', 'pf_ss', 'pf_movement_domestic', 'pf_movement_foreign', 'pf_movement_women', 'pf_movement', 'pf_religion_estop', 'pf_religion_harassment', 'pf_religion_restrictions', 'pf_religion', 'pf_association_association', 'pf_association_assembly', 'pf_association_political', 'pf_association_prof', 'pf_association_sport', 'pf_association', 'pf_expression_killed', 'pf_expression_jailed', 'pf_expression_influence', 'pf_expression_control', 'pf_expression_cable', 'pf_expression_newspapers', 'pf_expression_internet', 'pf_expression', 'pf_identity_legal', 'pf_identity_sex_male', 'pf_identity_sex_female', 'pf_identity_sex', 'pf_identity_divorce', 'pf_identity', 'pf_score', 'pf_rank', 'ef_government_consumption', 'ef_government_transfers', 'ef_government_enterprises', 'ef_government_tax_income', 'ef_government_tax_payroll', 'ef_government_tax', 'ef_government_soa', 'ef_government', 'ef_legal_judicial', 'ef_legal_courts', 'ef_legal_protection', 'ef_legal_military', 'ef_legal_integrity', 'ef_legal_enforcement', 'ef_legal_restrictions', 'ef_legal_police', 'ef_legal_crime', 'ef_legal_gender', 'ef_legal', 'ef_money_growth', 'ef_money_sd', 'ef_money_inflation', 'ef_money_currency', 'ef_money', 'ef_trade_tariffs_revenue', 'ef_trade_tariffs_mean', 'ef_trade_tariffs_sd', 'ef_trade_tariffs', 'ef_trade_regulatory_nontariff', 'ef_trade_regulatory_compliance', 'ef_trade_regulatory', 'ef_trade_black', 'ef_trade_movement_foreign', 'ef_trade_movement_capital', 'ef_trade_movement_visit', 'ef_trade_movement', 'ef_trade', 'ef_regulation_credit_ownership', 'ef_regulation_credit_private', 'ef_regulation_credit_interest', 'ef_regulation_credit', 'ef_regulation_labor_minwage', 'ef_regulation_labor_firing', 'ef_regulation_labor_bargain', 'ef_regulation_labor_hours', 'ef_regulation_labor_dismissal', 'ef_regulation_labor_conscription', 'ef_regulation_labor', 'ef_regulation_business_adm', 'ef_regulation_business_bureaucracy', 'ef_regulation_business_start', 'ef_regulation_business_bribes', 'ef_regulation_business_licensing', 'ef_regulation_business_compliance', 'ef_regulation_business', 'ef_regulation', 'ef_score', 'ef_rank']\n"
     ]
    }
   ],
   "source": [
    "# creating a list for copy/paste action\n",
    "col_list_basic = list(basic) # printing a complete column list\n",
    "print(col_list_basic)"
   ]
  },
  {
   "cell_type": "markdown",
   "metadata": {},
   "source": [
    "##### Most important features for my new dataset are:\n",
    "- hf_score \n",
    "- hf_quartile\n",
    "- countries\n",
    "- region\n",
    "\n",
    "##### Other features to use are:\n",
    "- ISO_code\n",
    "- hf_rank\n",
    "- pf_score\n",
    "- pf_rank\n",
    "- ef_score\n",
    "- ef_rank\n",
    "- pf_religion\n",
    "- pf_rol\n",
    "- pf_ss_women\n",
    "- pf_ss\n",
    "- pf_expression\n",
    "- pf_identity"
   ]
  },
  {
   "cell_type": "markdown",
   "metadata": {},
   "source": [
    "### Dropping all other features to create the basic dataset"
   ]
  },
  {
   "cell_type": "code",
   "execution_count": 13,
   "metadata": {},
   "outputs": [],
   "source": [
    "# Here I dropped them, later I realised it would be better to create a new dataframe with the features I want to use. But it's okay for now. It worked also like this\n",
    "basic.drop(['year', 'pf_rol_procedural', 'pf_rol_civil', 'pf_rol_criminal', 'pf_ss_homicide', \n",
    "                 'pf_ss_disappearances_disap', 'pf_ss_disappearances_violent', 'pf_ss_disappearances_organized', \n",
    "                 'pf_ss_disappearances_fatalities', 'pf_ss_disappearances_injuries', 'pf_ss_disappearances', \n",
    "                 'pf_ss_women_fgm', 'pf_ss_women_inheritance', 'pf_movement_domestic', 'pf_movement_foreign', \n",
    "                 'pf_movement_women', 'pf_movement', 'pf_religion_estop', 'pf_religion_harassment', \n",
    "                 'pf_religion_restrictions', 'pf_association_association', 'pf_association_assembly', \n",
    "                 'pf_association_political', 'pf_association_prof', 'pf_association_sport', 'pf_association', \n",
    "                 'pf_expression_killed', 'pf_expression_jailed', 'pf_expression_influence', 'pf_expression_control', \n",
    "                 'pf_expression_cable', 'pf_expression_newspapers', 'pf_expression_internet', 'pf_identity_legal', \n",
    "                 'pf_identity_sex_male', 'pf_identity_sex_female', 'pf_identity_sex', 'pf_identity_divorce', \n",
    "                 'ef_government_consumption', 'ef_government_transfers', 'ef_government_enterprises', \n",
    "                 'ef_government_tax_income', 'ef_government_tax_payroll', 'ef_government_tax', 'ef_government_soa', \n",
    "                 'ef_government', 'ef_legal_judicial', 'ef_legal_courts', 'ef_legal_protection', 'ef_legal_military', \n",
    "                 'ef_legal_integrity', 'ef_legal_enforcement', 'ef_legal_restrictions', 'ef_legal_police', 'ef_legal_crime', \n",
    "                 'ef_legal_gender', 'ef_legal', 'ef_money_growth', 'ef_money_sd', 'ef_money_inflation', 'ef_money_currency', \n",
    "                 'ef_money', 'ef_trade_tariffs_revenue', 'ef_trade_tariffs_mean', 'ef_trade_tariffs_sd', 'ef_trade_tariffs', \n",
    "                 'ef_trade_regulatory_nontariff', 'ef_trade_regulatory_compliance', 'ef_trade_regulatory', 'ef_trade_black', \n",
    "                 'ef_trade_movement_foreign', 'ef_trade_movement_capital', 'ef_trade_movement_visit', 'ef_trade_movement', \n",
    "                 'ef_trade', 'ef_regulation_credit_ownership', 'ef_regulation_credit_private', 'ef_regulation_credit_interest', \n",
    "                 'ef_regulation_credit', 'ef_regulation_labor_minwage', 'ef_regulation_labor_firing', \n",
    "                 'ef_regulation_labor_bargain', 'ef_regulation_labor_hours', 'ef_regulation_labor_dismissal', \n",
    "                 'ef_regulation_labor_conscription', 'ef_regulation_labor', 'ef_regulation_business_adm', \n",
    "                 'ef_regulation_business_bureaucracy', 'ef_regulation_business_start', 'ef_regulation_business_bribes', \n",
    "                 'ef_regulation_business_licensing', 'ef_regulation_business_compliance', 'ef_regulation_business', 'ef_regulation'], axis = 1, inplace = True)"
   ]
  },
  {
   "cell_type": "code",
   "execution_count": 14,
   "metadata": {},
   "outputs": [
    {
     "data": {
      "text/html": [
       "<div>\n",
       "<style scoped>\n",
       "    .dataframe tbody tr th:only-of-type {\n",
       "        vertical-align: middle;\n",
       "    }\n",
       "\n",
       "    .dataframe tbody tr th {\n",
       "        vertical-align: top;\n",
       "    }\n",
       "\n",
       "    .dataframe thead th {\n",
       "        text-align: right;\n",
       "    }\n",
       "</style>\n",
       "<table border=\"1\" class=\"dataframe\">\n",
       "  <thead>\n",
       "    <tr style=\"text-align: right;\">\n",
       "      <th></th>\n",
       "      <th>ISO_code</th>\n",
       "      <th>countries</th>\n",
       "      <th>region</th>\n",
       "      <th>hf_score</th>\n",
       "      <th>hf_rank</th>\n",
       "      <th>hf_quartile</th>\n",
       "      <th>pf_rol</th>\n",
       "      <th>pf_ss_women</th>\n",
       "      <th>pf_ss</th>\n",
       "      <th>pf_religion</th>\n",
       "      <th>pf_expression</th>\n",
       "      <th>pf_identity</th>\n",
       "      <th>pf_score</th>\n",
       "      <th>pf_rank</th>\n",
       "      <th>ef_score</th>\n",
       "      <th>ef_rank</th>\n",
       "    </tr>\n",
       "  </thead>\n",
       "  <tbody>\n",
       "    <tr>\n",
       "      <th>0</th>\n",
       "      <td>ALB</td>\n",
       "      <td>Albania</td>\n",
       "      <td>Eastern Europe</td>\n",
       "      <td>7.84</td>\n",
       "      <td>38.0</td>\n",
       "      <td>1.0</td>\n",
       "      <td>5.3</td>\n",
       "      <td>8.8</td>\n",
       "      <td>9.3</td>\n",
       "      <td>9.2</td>\n",
       "      <td>8.6</td>\n",
       "      <td>5.8</td>\n",
       "      <td>8.01</td>\n",
       "      <td>46.0</td>\n",
       "      <td>7.67</td>\n",
       "      <td>30.0</td>\n",
       "    </tr>\n",
       "    <tr>\n",
       "      <th>1</th>\n",
       "      <td>DZA</td>\n",
       "      <td>Algeria</td>\n",
       "      <td>Middle East &amp; North Africa</td>\n",
       "      <td>4.99</td>\n",
       "      <td>155.0</td>\n",
       "      <td>4.0</td>\n",
       "      <td>3.8</td>\n",
       "      <td>5.0</td>\n",
       "      <td>7.8</td>\n",
       "      <td>4.9</td>\n",
       "      <td>7.3</td>\n",
       "      <td>0.0</td>\n",
       "      <td>5.20</td>\n",
       "      <td>146.0</td>\n",
       "      <td>4.77</td>\n",
       "      <td>159.0</td>\n",
       "    </tr>\n",
       "    <tr>\n",
       "      <th>2</th>\n",
       "      <td>AGO</td>\n",
       "      <td>Angola</td>\n",
       "      <td>Sub-Saharan Africa</td>\n",
       "      <td>5.40</td>\n",
       "      <td>151.0</td>\n",
       "      <td>4.0</td>\n",
       "      <td>3.4</td>\n",
       "      <td>7.5</td>\n",
       "      <td>8.1</td>\n",
       "      <td>8.8</td>\n",
       "      <td>6.5</td>\n",
       "      <td>5.0</td>\n",
       "      <td>5.98</td>\n",
       "      <td>121.0</td>\n",
       "      <td>4.83</td>\n",
       "      <td>158.0</td>\n",
       "    </tr>\n",
       "  </tbody>\n",
       "</table>\n",
       "</div>"
      ],
      "text/plain": [
       "  ISO_code countries                      region  hf_score  hf_rank  \\\n",
       "0      ALB   Albania              Eastern Europe      7.84     38.0   \n",
       "1      DZA   Algeria  Middle East & North Africa      4.99    155.0   \n",
       "2      AGO    Angola          Sub-Saharan Africa      5.40    151.0   \n",
       "\n",
       "   hf_quartile  pf_rol  pf_ss_women  pf_ss  pf_religion  pf_expression  \\\n",
       "0          1.0     5.3          8.8    9.3          9.2            8.6   \n",
       "1          4.0     3.8          5.0    7.8          4.9            7.3   \n",
       "2          4.0     3.4          7.5    8.1          8.8            6.5   \n",
       "\n",
       "   pf_identity  pf_score  pf_rank  ef_score  ef_rank  \n",
       "0          5.8      8.01     46.0      7.67     30.0  \n",
       "1          0.0      5.20    146.0      4.77    159.0  \n",
       "2          5.0      5.98    121.0      4.83    158.0  "
      ]
     },
     "execution_count": 14,
     "metadata": {},
     "output_type": "execute_result"
    }
   ],
   "source": [
    "# Looking to my processed data set\n",
    "basic.head(3)"
   ]
  },
  {
   "cell_type": "code",
   "execution_count": 15,
   "metadata": {},
   "outputs": [
    {
     "data": {
      "text/plain": [
       "(162, 16)"
      ]
     },
     "execution_count": 15,
     "metadata": {},
     "output_type": "execute_result"
    }
   ],
   "source": [
    "basic.shape"
   ]
  },
  {
   "cell_type": "code",
   "execution_count": 16,
   "metadata": {},
   "outputs": [
    {
     "name": "stdout",
     "output_type": "stream",
     "text": [
      "<class 'pandas.core.frame.DataFrame'>\n",
      "Int64Index: 162 entries, 0 to 161\n",
      "Data columns (total 16 columns):\n",
      " #   Column         Non-Null Count  Dtype  \n",
      "---  ------         --------------  -----  \n",
      " 0   ISO_code       162 non-null    object \n",
      " 1   countries      162 non-null    object \n",
      " 2   region         162 non-null    object \n",
      " 3   hf_score       162 non-null    float64\n",
      " 4   hf_rank        162 non-null    float64\n",
      " 5   hf_quartile    162 non-null    float64\n",
      " 6   pf_rol         162 non-null    float64\n",
      " 7   pf_ss_women    162 non-null    float64\n",
      " 8   pf_ss          162 non-null    float64\n",
      " 9   pf_religion    161 non-null    float64\n",
      " 10  pf_expression  162 non-null    float64\n",
      " 11  pf_identity    162 non-null    float64\n",
      " 12  pf_score       162 non-null    float64\n",
      " 13  pf_rank        162 non-null    float64\n",
      " 14  ef_score       162 non-null    float64\n",
      " 15  ef_rank        162 non-null    float64\n",
      "dtypes: float64(13), object(3)\n",
      "memory usage: 21.5+ KB\n"
     ]
    }
   ],
   "source": [
    "# Looking for missing values\n",
    "basic.info()"
   ]
  },
  {
   "cell_type": "markdown",
   "metadata": {},
   "source": [
    "#### One missing value in the dataset (pf_religion for \"Yemen\")"
   ]
  },
  {
   "cell_type": "code",
   "execution_count": 17,
   "metadata": {},
   "outputs": [
    {
     "data": {
      "text/html": [
       "<div>\n",
       "<style scoped>\n",
       "    .dataframe tbody tr th:only-of-type {\n",
       "        vertical-align: middle;\n",
       "    }\n",
       "\n",
       "    .dataframe tbody tr th {\n",
       "        vertical-align: top;\n",
       "    }\n",
       "\n",
       "    .dataframe thead th {\n",
       "        text-align: right;\n",
       "    }\n",
       "</style>\n",
       "<table border=\"1\" class=\"dataframe\">\n",
       "  <thead>\n",
       "    <tr style=\"text-align: right;\">\n",
       "      <th></th>\n",
       "      <th>ISO_code</th>\n",
       "      <th>countries</th>\n",
       "      <th>region</th>\n",
       "      <th>hf_score</th>\n",
       "      <th>hf_rank</th>\n",
       "      <th>hf_quartile</th>\n",
       "      <th>pf_rol</th>\n",
       "      <th>pf_ss_women</th>\n",
       "      <th>pf_ss</th>\n",
       "      <th>pf_religion</th>\n",
       "      <th>pf_expression</th>\n",
       "      <th>pf_identity</th>\n",
       "      <th>pf_score</th>\n",
       "      <th>pf_rank</th>\n",
       "      <th>ef_score</th>\n",
       "      <th>ef_rank</th>\n",
       "    </tr>\n",
       "  </thead>\n",
       "  <tbody>\n",
       "    <tr>\n",
       "      <th>159</th>\n",
       "      <td>YEM</td>\n",
       "      <td>Yemen, Rep.</td>\n",
       "      <td>Middle East &amp; North Africa</td>\n",
       "      <td>4.3</td>\n",
       "      <td>160.0</td>\n",
       "      <td>4.0</td>\n",
       "      <td>2.4</td>\n",
       "      <td>4.1</td>\n",
       "      <td>4.2</td>\n",
       "      <td>NaN</td>\n",
       "      <td>5.0</td>\n",
       "      <td>0.0</td>\n",
       "      <td>2.75</td>\n",
       "      <td>161.0</td>\n",
       "      <td>5.84</td>\n",
       "      <td>140.0</td>\n",
       "    </tr>\n",
       "  </tbody>\n",
       "</table>\n",
       "</div>"
      ],
      "text/plain": [
       "    ISO_code    countries                      region  hf_score  hf_rank  \\\n",
       "159      YEM  Yemen, Rep.  Middle East & North Africa       4.3    160.0   \n",
       "\n",
       "     hf_quartile  pf_rol  pf_ss_women  pf_ss  pf_religion  pf_expression  \\\n",
       "159          4.0     2.4          4.1    4.2          NaN            5.0   \n",
       "\n",
       "     pf_identity  pf_score  pf_rank  ef_score  ef_rank  \n",
       "159          0.0      2.75    161.0      5.84    140.0  "
      ]
     },
     "execution_count": 17,
     "metadata": {},
     "output_type": "execute_result"
    }
   ],
   "source": [
    "basic[159:160]"
   ]
  },
  {
   "cell_type": "markdown",
   "metadata": {},
   "source": [
    "##### Because it is just one value (of hf_quartile 4.0), I fill it with the mean value of the countries in hf_quartile 4.0"
   ]
  },
  {
   "cell_type": "code",
   "execution_count": 18,
   "metadata": {},
   "outputs": [
    {
     "data": {
      "text/plain": [
       "6.233333333333333"
      ]
     },
     "execution_count": 18,
     "metadata": {},
     "output_type": "execute_result"
    }
   ],
   "source": [
    "fill_val = basic[basic['hf_quartile'] == 4.0] # calculating the missing value with mean of same quartile\n",
    "fill_val.pf_religion.mean() # show calculated value"
   ]
  },
  {
   "cell_type": "code",
   "execution_count": 19,
   "metadata": {},
   "outputs": [
    {
     "name": "stderr",
     "output_type": "stream",
     "text": [
      "/opt/anaconda3/lib/python3.8/site-packages/pandas/core/frame.py:4147: SettingWithCopyWarning: \n",
      "A value is trying to be set on a copy of a slice from a DataFrame\n",
      "\n",
      "See the caveats in the documentation: https://pandas.pydata.org/pandas-docs/stable/user_guide/indexing.html#returning-a-view-versus-a-copy\n",
      "  return super().fillna(\n"
     ]
    }
   ],
   "source": [
    "basic.fillna(6.23, inplace=True) # filling the value in my set"
   ]
  },
  {
   "cell_type": "code",
   "execution_count": 20,
   "metadata": {},
   "outputs": [
    {
     "data": {
      "text/html": [
       "<div>\n",
       "<style scoped>\n",
       "    .dataframe tbody tr th:only-of-type {\n",
       "        vertical-align: middle;\n",
       "    }\n",
       "\n",
       "    .dataframe tbody tr th {\n",
       "        vertical-align: top;\n",
       "    }\n",
       "\n",
       "    .dataframe thead th {\n",
       "        text-align: right;\n",
       "    }\n",
       "</style>\n",
       "<table border=\"1\" class=\"dataframe\">\n",
       "  <thead>\n",
       "    <tr style=\"text-align: right;\">\n",
       "      <th></th>\n",
       "      <th>ISO_code</th>\n",
       "      <th>countries</th>\n",
       "      <th>region</th>\n",
       "      <th>hf_score</th>\n",
       "      <th>hf_rank</th>\n",
       "      <th>hf_quartile</th>\n",
       "      <th>pf_rol</th>\n",
       "      <th>pf_ss_women</th>\n",
       "      <th>pf_ss</th>\n",
       "      <th>pf_religion</th>\n",
       "      <th>pf_expression</th>\n",
       "      <th>pf_identity</th>\n",
       "      <th>pf_score</th>\n",
       "      <th>pf_rank</th>\n",
       "      <th>ef_score</th>\n",
       "      <th>ef_rank</th>\n",
       "    </tr>\n",
       "  </thead>\n",
       "  <tbody>\n",
       "    <tr>\n",
       "      <th>159</th>\n",
       "      <td>YEM</td>\n",
       "      <td>Yemen, Rep.</td>\n",
       "      <td>Middle East &amp; North Africa</td>\n",
       "      <td>4.3</td>\n",
       "      <td>160.0</td>\n",
       "      <td>4.0</td>\n",
       "      <td>2.4</td>\n",
       "      <td>4.1</td>\n",
       "      <td>4.2</td>\n",
       "      <td>6.23</td>\n",
       "      <td>5.0</td>\n",
       "      <td>0.0</td>\n",
       "      <td>2.75</td>\n",
       "      <td>161.0</td>\n",
       "      <td>5.84</td>\n",
       "      <td>140.0</td>\n",
       "    </tr>\n",
       "  </tbody>\n",
       "</table>\n",
       "</div>"
      ],
      "text/plain": [
       "    ISO_code    countries                      region  hf_score  hf_rank  \\\n",
       "159      YEM  Yemen, Rep.  Middle East & North Africa       4.3    160.0   \n",
       "\n",
       "     hf_quartile  pf_rol  pf_ss_women  pf_ss  pf_religion  pf_expression  \\\n",
       "159          4.0     2.4          4.1    4.2         6.23            5.0   \n",
       "\n",
       "     pf_identity  pf_score  pf_rank  ef_score  ef_rank  \n",
       "159          0.0      2.75    161.0      5.84    140.0  "
      ]
     },
     "execution_count": 20,
     "metadata": {},
     "output_type": "execute_result"
    }
   ],
   "source": [
    "basic[159:160] # controlling if its in - It is"
   ]
  },
  {
   "cell_type": "markdown",
   "metadata": {},
   "source": [
    "##### For better usability I rename the Columns as I want them"
   ]
  },
  {
   "cell_type": "code",
   "execution_count": 21,
   "metadata": {},
   "outputs": [
    {
     "name": "stderr",
     "output_type": "stream",
     "text": [
      "/opt/anaconda3/lib/python3.8/site-packages/pandas/core/frame.py:4125: SettingWithCopyWarning: \n",
      "A value is trying to be set on a copy of a slice from a DataFrame\n",
      "\n",
      "See the caveats in the documentation: https://pandas.pydata.org/pandas-docs/stable/user_guide/indexing.html#returning-a-view-versus-a-copy\n",
      "  return super().rename(\n"
     ]
    }
   ],
   "source": [
    "basic.rename(columns={'countries': 'Country', 'region': 'Region', 'hf_score': 'FreeSc', \n",
    "                       'hf_rank': 'FreeRk', 'pf_rol': 'RoLaw', 'pf_ss_women': 'FemSafe', \n",
    "                       'pf_ss': 'PersSafe', 'pf_religion': 'RelFree', 'pf_expression': 'ExpFree', \n",
    "                       'pf_identity': 'GenderIdty', 'pf_score' : 'PersFreeSc', 'pf_rank': 'PersFreeRk', \n",
    "                       'ef_score': 'EcoFreeSc', 'ef_rank': 'EcoFreeRk', 'hf_quartile': 'FreeQuart'}, inplace=True)"
   ]
  },
  {
   "cell_type": "code",
   "execution_count": 22,
   "metadata": {},
   "outputs": [
    {
     "name": "stdout",
     "output_type": "stream",
     "text": [
      "<class 'pandas.core.frame.DataFrame'>\n",
      "Int64Index: 162 entries, 0 to 161\n",
      "Data columns (total 16 columns):\n",
      " #   Column      Non-Null Count  Dtype  \n",
      "---  ------      --------------  -----  \n",
      " 0   ISO_code    162 non-null    object \n",
      " 1   Country     162 non-null    object \n",
      " 2   Region      162 non-null    object \n",
      " 3   FreeSc      162 non-null    float64\n",
      " 4   FreeRk      162 non-null    float64\n",
      " 5   FreeQuart   162 non-null    float64\n",
      " 6   RoLaw       162 non-null    float64\n",
      " 7   FemSafe     162 non-null    float64\n",
      " 8   PersSafe    162 non-null    float64\n",
      " 9   RelFree     162 non-null    float64\n",
      " 10  ExpFree     162 non-null    float64\n",
      " 11  GenderIdty  162 non-null    float64\n",
      " 12  PersFreeSc  162 non-null    float64\n",
      " 13  PersFreeRk  162 non-null    float64\n",
      " 14  EcoFreeSc   162 non-null    float64\n",
      " 15  EcoFreeRk   162 non-null    float64\n",
      "dtypes: float64(13), object(3)\n",
      "memory usage: 21.5+ KB\n"
     ]
    }
   ],
   "source": [
    "# Another check for missing values\n",
    "basic.info()"
   ]
  },
  {
   "cell_type": "code",
   "execution_count": 23,
   "metadata": {},
   "outputs": [
    {
     "data": {
      "text/html": [
       "<div>\n",
       "<style scoped>\n",
       "    .dataframe tbody tr th:only-of-type {\n",
       "        vertical-align: middle;\n",
       "    }\n",
       "\n",
       "    .dataframe tbody tr th {\n",
       "        vertical-align: top;\n",
       "    }\n",
       "\n",
       "    .dataframe thead th {\n",
       "        text-align: right;\n",
       "    }\n",
       "</style>\n",
       "<table border=\"1\" class=\"dataframe\">\n",
       "  <thead>\n",
       "    <tr style=\"text-align: right;\">\n",
       "      <th></th>\n",
       "      <th>ISO_code</th>\n",
       "      <th>Country</th>\n",
       "      <th>Region</th>\n",
       "      <th>FreeSc</th>\n",
       "      <th>FreeRk</th>\n",
       "      <th>FreeQuart</th>\n",
       "      <th>RoLaw</th>\n",
       "      <th>FemSafe</th>\n",
       "      <th>PersSafe</th>\n",
       "      <th>RelFree</th>\n",
       "      <th>ExpFree</th>\n",
       "      <th>GenderIdty</th>\n",
       "      <th>PersFreeSc</th>\n",
       "      <th>PersFreeRk</th>\n",
       "      <th>EcoFreeSc</th>\n",
       "      <th>EcoFreeRk</th>\n",
       "    </tr>\n",
       "  </thead>\n",
       "  <tbody>\n",
       "    <tr>\n",
       "      <th>0</th>\n",
       "      <td>ALB</td>\n",
       "      <td>Albania</td>\n",
       "      <td>Eastern Europe</td>\n",
       "      <td>7.84</td>\n",
       "      <td>38.0</td>\n",
       "      <td>1.0</td>\n",
       "      <td>5.3</td>\n",
       "      <td>8.8</td>\n",
       "      <td>9.3</td>\n",
       "      <td>9.2</td>\n",
       "      <td>8.6</td>\n",
       "      <td>5.8</td>\n",
       "      <td>8.01</td>\n",
       "      <td>46.0</td>\n",
       "      <td>7.67</td>\n",
       "      <td>30.0</td>\n",
       "    </tr>\n",
       "    <tr>\n",
       "      <th>1</th>\n",
       "      <td>DZA</td>\n",
       "      <td>Algeria</td>\n",
       "      <td>Middle East &amp; North Africa</td>\n",
       "      <td>4.99</td>\n",
       "      <td>155.0</td>\n",
       "      <td>4.0</td>\n",
       "      <td>3.8</td>\n",
       "      <td>5.0</td>\n",
       "      <td>7.8</td>\n",
       "      <td>4.9</td>\n",
       "      <td>7.3</td>\n",
       "      <td>0.0</td>\n",
       "      <td>5.20</td>\n",
       "      <td>146.0</td>\n",
       "      <td>4.77</td>\n",
       "      <td>159.0</td>\n",
       "    </tr>\n",
       "    <tr>\n",
       "      <th>2</th>\n",
       "      <td>AGO</td>\n",
       "      <td>Angola</td>\n",
       "      <td>Sub-Saharan Africa</td>\n",
       "      <td>5.40</td>\n",
       "      <td>151.0</td>\n",
       "      <td>4.0</td>\n",
       "      <td>3.4</td>\n",
       "      <td>7.5</td>\n",
       "      <td>8.1</td>\n",
       "      <td>8.8</td>\n",
       "      <td>6.5</td>\n",
       "      <td>5.0</td>\n",
       "      <td>5.98</td>\n",
       "      <td>121.0</td>\n",
       "      <td>4.83</td>\n",
       "      <td>158.0</td>\n",
       "    </tr>\n",
       "  </tbody>\n",
       "</table>\n",
       "</div>"
      ],
      "text/plain": [
       "  ISO_code  Country                      Region  FreeSc  FreeRk  FreeQuart  \\\n",
       "0      ALB  Albania              Eastern Europe    7.84    38.0        1.0   \n",
       "1      DZA  Algeria  Middle East & North Africa    4.99   155.0        4.0   \n",
       "2      AGO   Angola          Sub-Saharan Africa    5.40   151.0        4.0   \n",
       "\n",
       "   RoLaw  FemSafe  PersSafe  RelFree  ExpFree  GenderIdty  PersFreeSc  \\\n",
       "0    5.3      8.8       9.3      9.2      8.6         5.8        8.01   \n",
       "1    3.8      5.0       7.8      4.9      7.3         0.0        5.20   \n",
       "2    3.4      7.5       8.1      8.8      6.5         5.0        5.98   \n",
       "\n",
       "   PersFreeRk  EcoFreeSc  EcoFreeRk  \n",
       "0        46.0       7.67       30.0  \n",
       "1       146.0       4.77      159.0  \n",
       "2       121.0       4.83      158.0  "
      ]
     },
     "execution_count": 23,
     "metadata": {},
     "output_type": "execute_result"
    }
   ],
   "source": [
    "# Another look at my set\n",
    "basic.head(3)"
   ]
  },
  {
   "cell_type": "markdown",
   "metadata": {},
   "source": [
    "##### Rename some countries for better merging, because the Country names must have the same notation for merging"
   ]
  },
  {
   "cell_type": "code",
   "execution_count": 24,
   "metadata": {},
   "outputs": [],
   "source": [
    "# NOTE: Because it is almost always the same countries that have to be renamed, I will list them individually. \n",
    "# Then I can work more easily with copy / paste in the other datasets.\n",
    "basic.at[34,\"Country\"]= \"Democratic Republic of the Congo\"\n",
    "basic.at[35,\"Country\"]= \"Republic of the Congo\"\n",
    "basic.at[37,\"Country\"]= \"Ivory Coast\"\n",
    "basic.at[42,\"Country\"]= \"Dominican Republic\"\n",
    "basic.at[79,\"Country\"]= \"South Korea\"\n",
    "basic.at[159,\"Country\"]= \"Yemen\"\n",
    "basic.at[132,\"Country\"]= \"Slovakia\"\n",
    "basic.at[40,\"Country\"]= \"Czechia\"\n",
    "basic.at[81,\"Country\"]= \"Kyrgyzstan\"\n",
    "basic.at[29,\"Country\"]= \"Central African Republic\"\n",
    "basic.at[37,\"Country\"]= \"Ivory Coast\"\n",
    "basic = basic.sort_values(by=['Country'], ascending=True)"
   ]
  },
  {
   "cell_type": "markdown",
   "metadata": {},
   "source": [
    "### <center>Now this dataset is ready and I will use it at the end as my basic dataframe.\n",
    "### <center>The next step is to prepare the other datasets for merging to add more features to complete my dataframe. \n",
    "##### <center>Some countries have different notations in the datasets. I tried so solve this merging-issue with different solutions like pycountry_convert and the alpha2-code or mapping, but they all need the right notation too, so I must solve it manually for every dataset.\n",
    "## <center>The first dataset is the Happiness-Index.\n",
    "The scores and rankings utilize information from the Gallup World Survey. They are based on answers to the most life evaluation address, known as the Cantril step, asks respondents to think of a step with the most excellent conceivable life for them being a 10 and the most exceedingly bad conceivable life being a and to rate their claim current lives on that scale. This file contains the Happiness Score for 153 countries along with the factors used to explain the score.\n",
    "The Happiness Score is explained by the following factors:\n",
    "GDP per capita,\n",
    "Healthy Life Expectancy,\n",
    "Social support,\n",
    "Freedom to make life choices,\n",
    "Generosity,\n",
    "Corruption Perception and the \n",
    "Residual error."
   ]
  },
  {
   "cell_type": "code",
   "execution_count": 25,
   "metadata": {},
   "outputs": [
    {
     "data": {
      "text/html": [
       "<div>\n",
       "<style scoped>\n",
       "    .dataframe tbody tr th:only-of-type {\n",
       "        vertical-align: middle;\n",
       "    }\n",
       "\n",
       "    .dataframe tbody tr th {\n",
       "        vertical-align: top;\n",
       "    }\n",
       "\n",
       "    .dataframe thead th {\n",
       "        text-align: right;\n",
       "    }\n",
       "</style>\n",
       "<table border=\"1\" class=\"dataframe\">\n",
       "  <thead>\n",
       "    <tr style=\"text-align: right;\">\n",
       "      <th></th>\n",
       "      <th>Country</th>\n",
       "      <th>Happiness.Rank</th>\n",
       "      <th>Happiness.Score</th>\n",
       "      <th>Whisker.high</th>\n",
       "      <th>Whisker.low</th>\n",
       "      <th>Economy..GDP.per.Capita.</th>\n",
       "      <th>Family</th>\n",
       "      <th>Health..Life.Expectancy.</th>\n",
       "      <th>Freedom</th>\n",
       "      <th>Generosity</th>\n",
       "      <th>Trust..Government.Corruption.</th>\n",
       "      <th>Dystopia.Residual</th>\n",
       "    </tr>\n",
       "  </thead>\n",
       "  <tbody>\n",
       "    <tr>\n",
       "      <th>0</th>\n",
       "      <td>Norway</td>\n",
       "      <td>1</td>\n",
       "      <td>7.537</td>\n",
       "      <td>7.594445</td>\n",
       "      <td>7.479556</td>\n",
       "      <td>1.616463</td>\n",
       "      <td>1.533524</td>\n",
       "      <td>0.796667</td>\n",
       "      <td>0.635423</td>\n",
       "      <td>0.362012</td>\n",
       "      <td>0.315964</td>\n",
       "      <td>2.277027</td>\n",
       "    </tr>\n",
       "    <tr>\n",
       "      <th>1</th>\n",
       "      <td>Denmark</td>\n",
       "      <td>2</td>\n",
       "      <td>7.522</td>\n",
       "      <td>7.581728</td>\n",
       "      <td>7.462272</td>\n",
       "      <td>1.482383</td>\n",
       "      <td>1.551122</td>\n",
       "      <td>0.792566</td>\n",
       "      <td>0.626007</td>\n",
       "      <td>0.355280</td>\n",
       "      <td>0.400770</td>\n",
       "      <td>2.313707</td>\n",
       "    </tr>\n",
       "    <tr>\n",
       "      <th>2</th>\n",
       "      <td>Iceland</td>\n",
       "      <td>3</td>\n",
       "      <td>7.504</td>\n",
       "      <td>7.622030</td>\n",
       "      <td>7.385970</td>\n",
       "      <td>1.480633</td>\n",
       "      <td>1.610574</td>\n",
       "      <td>0.833552</td>\n",
       "      <td>0.627163</td>\n",
       "      <td>0.475540</td>\n",
       "      <td>0.153527</td>\n",
       "      <td>2.322715</td>\n",
       "    </tr>\n",
       "  </tbody>\n",
       "</table>\n",
       "</div>"
      ],
      "text/plain": [
       "   Country  Happiness.Rank  Happiness.Score  Whisker.high  Whisker.low  \\\n",
       "0   Norway               1            7.537      7.594445     7.479556   \n",
       "1  Denmark               2            7.522      7.581728     7.462272   \n",
       "2  Iceland               3            7.504      7.622030     7.385970   \n",
       "\n",
       "   Economy..GDP.per.Capita.    Family  Health..Life.Expectancy.   Freedom  \\\n",
       "0                  1.616463  1.533524                  0.796667  0.635423   \n",
       "1                  1.482383  1.551122                  0.792566  0.626007   \n",
       "2                  1.480633  1.610574                  0.833552  0.627163   \n",
       "\n",
       "   Generosity  Trust..Government.Corruption.  Dystopia.Residual  \n",
       "0    0.362012                       0.315964           2.277027  \n",
       "1    0.355280                       0.400770           2.313707  \n",
       "2    0.475540                       0.153527           2.322715  "
      ]
     },
     "execution_count": 25,
     "metadata": {},
     "output_type": "execute_result"
    }
   ],
   "source": [
    "# importing the data\n",
    "happy = pd.read_csv(\"files/World_HappinessReport2017.csv\")\n",
    "happy.head(3)\n",
    "# Reserve Datasets: (\"2017\") is the same Data"
   ]
  },
  {
   "cell_type": "code",
   "execution_count": 26,
   "metadata": {},
   "outputs": [
    {
     "data": {
      "text/plain": [
       "(155, 12)"
      ]
     },
     "execution_count": 26,
     "metadata": {},
     "output_type": "execute_result"
    }
   ],
   "source": [
    "happy.shape"
   ]
  },
  {
   "cell_type": "code",
   "execution_count": 27,
   "metadata": {},
   "outputs": [
    {
     "name": "stdout",
     "output_type": "stream",
     "text": [
      "['Country', 'Happiness.Rank', 'Happiness.Score', 'Whisker.high', 'Whisker.low', 'Economy..GDP.per.Capita.', 'Family', 'Health..Life.Expectancy.', 'Freedom', 'Generosity', 'Trust..Government.Corruption.', 'Dystopia.Residual']\n"
     ]
    }
   ],
   "source": [
    "# Creating a list of columns for easier dropping with copy/paste\n",
    "col_list_happy = list(happy)\n",
    "print(col_list_happy)"
   ]
  },
  {
   "cell_type": "markdown",
   "metadata": {},
   "source": [
    "#### <center>I will only use the (renamed) Happiness.Score and Happiness.Rank, because I will analyze them later with other features. Now dropping all other features."
   ]
  },
  {
   "cell_type": "code",
   "execution_count": 28,
   "metadata": {},
   "outputs": [],
   "source": [
    "happy.drop(['Whisker.high', 'Whisker.low', 'Economy..GDP.per.Capita.',\n",
    "                'Family', 'Health..Life.Expectancy.', 'Freedom', \n",
    "                'Generosity', 'Trust..Government.Corruption.', 'Dystopia.Residual'], axis = 1, inplace = True)"
   ]
  },
  {
   "cell_type": "code",
   "execution_count": 29,
   "metadata": {},
   "outputs": [],
   "source": [
    "happy.rename(columns={'Happiness.Rank': 'HappyRk', 'Happiness.Score': 'HappySc'}, inplace=True)"
   ]
  },
  {
   "cell_type": "code",
   "execution_count": 30,
   "metadata": {},
   "outputs": [
    {
     "data": {
      "text/plain": [
       "(155, 3)"
      ]
     },
     "execution_count": 30,
     "metadata": {},
     "output_type": "execute_result"
    }
   ],
   "source": [
    "happy.shape"
   ]
  },
  {
   "cell_type": "code",
   "execution_count": 31,
   "metadata": {},
   "outputs": [
    {
     "name": "stdout",
     "output_type": "stream",
     "text": [
      "<class 'pandas.core.frame.DataFrame'>\n",
      "RangeIndex: 155 entries, 0 to 154\n",
      "Data columns (total 3 columns):\n",
      " #   Column   Non-Null Count  Dtype  \n",
      "---  ------   --------------  -----  \n",
      " 0   Country  155 non-null    object \n",
      " 1   HappyRk  155 non-null    int64  \n",
      " 2   HappySc  155 non-null    float64\n",
      "dtypes: float64(1), int64(1), object(1)\n",
      "memory usage: 3.8+ KB\n"
     ]
    }
   ],
   "source": [
    "happy.info()"
   ]
  },
  {
   "cell_type": "markdown",
   "metadata": {},
   "source": [
    "##### No missing values. Adjustment of Country-notation to the basic dataset."
   ]
  },
  {
   "cell_type": "code",
   "execution_count": 32,
   "metadata": {},
   "outputs": [],
   "source": [
    "# Rename the Countries for equal notation\n",
    "happy.at[125,\"Country\"]= \"Democratic Republic of the Congo\"\n",
    "happy.at[123,\"Country\"]= \"Republic of the Congo\"\n",
    "happy.at[91,\"Country\"]= \"North Macedonia\"\n",
    "happy.at[22,\"Country\"]= \"Czechia\"\n",
    "happy.at[70,\"Country\"]= \"Hong Kong\"\n",
    "happy.at[32,\"Country\"]= \"Taiwan\"\n",
    "happy = happy.sort_values(by=['Country'], ascending=True)"
   ]
  },
  {
   "cell_type": "markdown",
   "metadata": {},
   "source": [
    "#### <center> After this Dataset is prepared for merging, going to the next dataset, which gives me the Country wise GDP.\n",
    "GDP is the final value of the goods and services produced within the geographic boundaries of a country during a specified period of time, normally a year. GDP growth rate is an important indicator of the economic performance of a country. The data is from World Bank and OECD."
   ]
  },
  {
   "cell_type": "code",
   "execution_count": 33,
   "metadata": {},
   "outputs": [
    {
     "data": {
      "text/html": [
       "<div>\n",
       "<style scoped>\n",
       "    .dataframe tbody tr th:only-of-type {\n",
       "        vertical-align: middle;\n",
       "    }\n",
       "\n",
       "    .dataframe tbody tr th {\n",
       "        vertical-align: top;\n",
       "    }\n",
       "\n",
       "    .dataframe thead th {\n",
       "        text-align: right;\n",
       "    }\n",
       "</style>\n",
       "<table border=\"1\" class=\"dataframe\">\n",
       "  <thead>\n",
       "    <tr style=\"text-align: right;\">\n",
       "      <th></th>\n",
       "      <th>Year</th>\n",
       "      <th>Country</th>\n",
       "      <th>GDP (in USD)</th>\n",
       "      <th>GDP Real (in USD)</th>\n",
       "      <th>GDP change (%)</th>\n",
       "      <th>GDP per capita (in USD)</th>\n",
       "      <th>Pop. change (%)</th>\n",
       "      <th>Population</th>\n",
       "    </tr>\n",
       "  </thead>\n",
       "  <tbody>\n",
       "    <tr>\n",
       "      <th>2608</th>\n",
       "      <td>2017</td>\n",
       "      <td>Afghanistan</td>\n",
       "      <td>19543976895</td>\n",
       "      <td>20744935406</td>\n",
       "      <td>2.67</td>\n",
       "      <td>572</td>\n",
       "      <td>2.58</td>\n",
       "      <td>36296113</td>\n",
       "    </tr>\n",
       "    <tr>\n",
       "      <th>2866</th>\n",
       "      <td>2017</td>\n",
       "      <td>Albania</td>\n",
       "      <td>13038538300</td>\n",
       "      <td>13986932579</td>\n",
       "      <td>3.84</td>\n",
       "      <td>4850</td>\n",
       "      <td>-0.08</td>\n",
       "      <td>2884169</td>\n",
       "    </tr>\n",
       "    <tr>\n",
       "      <th>1238</th>\n",
       "      <td>2017</td>\n",
       "      <td>Algeria</td>\n",
       "      <td>167555280113</td>\n",
       "      <td>199171379146</td>\n",
       "      <td>1.60</td>\n",
       "      <td>4812</td>\n",
       "      <td>2.07</td>\n",
       "      <td>41389189</td>\n",
       "    </tr>\n",
       "  </tbody>\n",
       "</table>\n",
       "</div>"
      ],
      "text/plain": [
       "      Year      Country  GDP (in USD)  GDP Real (in USD)  GDP change (%)  \\\n",
       "2608  2017  Afghanistan   19543976895        20744935406            2.67   \n",
       "2866  2017      Albania   13038538300        13986932579            3.84   \n",
       "1238  2017      Algeria  167555280113       199171379146            1.60   \n",
       "\n",
       "      GDP per capita (in USD)  Pop. change (%)  Population  \n",
       "2608                      572             2.58    36296113  \n",
       "2866                     4850            -0.08     2884169  \n",
       "1238                     4812             2.07    41389189  "
      ]
     },
     "execution_count": 33,
     "metadata": {},
     "output_type": "execute_result"
    }
   ],
   "source": [
    "# loading the dataset\n",
    "gdp1 = pd.read_csv(\"files//Country wise GDP from 1994 to 2017.csv\")\n",
    "gdp1 = gdp1[gdp1['Year'] == 2017]\n",
    "gdp = gdp1.sort_values('Country', ascending=True)\n",
    "gdp.head(3)"
   ]
  },
  {
   "cell_type": "code",
   "execution_count": 34,
   "metadata": {},
   "outputs": [
    {
     "data": {
      "text/plain": [
       "(189, 8)"
      ]
     },
     "execution_count": 34,
     "metadata": {},
     "output_type": "execute_result"
    }
   ],
   "source": [
    "gdp.shape"
   ]
  },
  {
   "cell_type": "code",
   "execution_count": 35,
   "metadata": {},
   "outputs": [
    {
     "name": "stdout",
     "output_type": "stream",
     "text": [
      "['Year', 'Country', 'GDP (in USD)', 'GDP Real (in USD)', 'GDP change (%)', 'GDP per capita (in USD)', 'Pop. change (%)', 'Population']\n"
     ]
    }
   ],
   "source": [
    "# Looking for all columns\n",
    "col_list_gdp = list(gdp)\n",
    "print(col_list_gdp)"
   ]
  },
  {
   "cell_type": "markdown",
   "metadata": {},
   "source": [
    "#### <center> You can't compare the \"GDP\" itself because of different Population-Count, so I will use the \"GDP per capita\".\n",
    "The gross domestic product per capita, or GDP per capita, is a measure of a country's economic output that accounts for its number of people. It divides the country's gross domestic product by its total population."
   ]
  },
  {
   "cell_type": "markdown",
   "metadata": {},
   "source": [
    "#### <center>After comparing \"Population\" with other Population-Count-datasets, I saw I can take it from here.\n",
    "##### Dropping all other features and rename one feature."
   ]
  },
  {
   "cell_type": "code",
   "execution_count": 36,
   "metadata": {},
   "outputs": [
    {
     "name": "stdout",
     "output_type": "stream",
     "text": [
      "<class 'pandas.core.frame.DataFrame'>\n",
      "Int64Index: 189 entries, 2608 to 2536\n",
      "Data columns (total 3 columns):\n",
      " #   Column          Non-Null Count  Dtype \n",
      "---  ------          --------------  ----- \n",
      " 0   Country         189 non-null    object\n",
      " 1   GDP_per_capita  189 non-null    int64 \n",
      " 2   Population      189 non-null    int64 \n",
      "dtypes: int64(2), object(1)\n",
      "memory usage: 5.9+ KB\n"
     ]
    }
   ],
   "source": [
    "gdp.drop(['Year', 'GDP (in USD)', 'GDP Real (in USD)', 'GDP change (%)', 'Pop. change (%)'], axis = 1, inplace = True)\n",
    "gdp.rename(columns={'GDP per capita (in USD)': 'GDP_per_capita'}, inplace=True)\n",
    "gdp.info()"
   ]
  },
  {
   "cell_type": "markdown",
   "metadata": {},
   "source": [
    "##### No missing values. Adjustment of Country-notation to the basic dataset."
   ]
  },
  {
   "cell_type": "code",
   "execution_count": 37,
   "metadata": {},
   "outputs": [],
   "source": [
    "gdp.at[2148,\"Country\"]= \"Democratic Republic of the Congo\"\n",
    "gdp.at[3226,\"Country\"]= \"Republic of the Congo\"\n",
    "gdp.at[1598,\"Country\"]= \"Dominican Republic\"\n",
    "gdp.at[1104,\"Country\"]= \"Czechia\"\n",
    "gdp.at[2196,\"Country\"]= \"Ivory Coast\"\n",
    "gdp = gdp.sort_values('Country', ascending=True)"
   ]
  },
  {
   "cell_type": "markdown",
   "metadata": {},
   "source": [
    "### <center> Taking the Life-expectancy (in years) from the next dataset\n",
    "##### Original-Data is from the WHO"
   ]
  },
  {
   "cell_type": "code",
   "execution_count": 38,
   "metadata": {},
   "outputs": [
    {
     "data": {
      "text/html": [
       "<div>\n",
       "<style scoped>\n",
       "    .dataframe tbody tr th:only-of-type {\n",
       "        vertical-align: middle;\n",
       "    }\n",
       "\n",
       "    .dataframe tbody tr th {\n",
       "        vertical-align: top;\n",
       "    }\n",
       "\n",
       "    .dataframe thead th {\n",
       "        text-align: right;\n",
       "    }\n",
       "</style>\n",
       "<table border=\"1\" class=\"dataframe\">\n",
       "  <thead>\n",
       "    <tr style=\"text-align: right;\">\n",
       "      <th></th>\n",
       "      <th>Country</th>\n",
       "      <th>LifeAge</th>\n",
       "    </tr>\n",
       "  </thead>\n",
       "  <tbody>\n",
       "    <tr>\n",
       "      <th>67</th>\n",
       "      <td>Afghanistan</td>\n",
       "      <td>64.130</td>\n",
       "    </tr>\n",
       "    <tr>\n",
       "      <th>139</th>\n",
       "      <td>Africa</td>\n",
       "      <td>62.472</td>\n",
       "    </tr>\n",
       "    <tr>\n",
       "      <th>209</th>\n",
       "      <td>Albania</td>\n",
       "      <td>78.333</td>\n",
       "    </tr>\n",
       "  </tbody>\n",
       "</table>\n",
       "</div>"
      ],
      "text/plain": [
       "         Country  LifeAge\n",
       "67   Afghanistan   64.130\n",
       "139       Africa   62.472\n",
       "209      Albania   78.333"
      ]
     },
     "execution_count": 38,
     "metadata": {},
     "output_type": "execute_result"
    }
   ],
   "source": [
    "# import of the data, rename the columns and dropping not needed columns\n",
    "life_ex = pd.read_csv(\"files/life-expectancy.csv\")\n",
    "life_ex = life_ex[life_ex['Year'] == 2017]\n",
    "life_ex.rename(columns={\"Entity\": \"Country\", \"Life expectancy (years)\" : \"LifeAge\"}, inplace=True)\n",
    "life_ex.drop(['Year', 'Code'], axis = 1, inplace = True)\n",
    "life_ex.head(3)"
   ]
  },
  {
   "cell_type": "code",
   "execution_count": 39,
   "metadata": {},
   "outputs": [
    {
     "data": {
      "text/plain": [
       "(243, 2)"
      ]
     },
     "execution_count": 39,
     "metadata": {},
     "output_type": "execute_result"
    }
   ],
   "source": [
    "life_ex.shape"
   ]
  },
  {
   "cell_type": "code",
   "execution_count": 40,
   "metadata": {},
   "outputs": [
    {
     "name": "stdout",
     "output_type": "stream",
     "text": [
      "<class 'pandas.core.frame.DataFrame'>\n",
      "Int64Index: 243 entries, 67 to 19025\n",
      "Data columns (total 2 columns):\n",
      " #   Column   Non-Null Count  Dtype  \n",
      "---  ------   --------------  -----  \n",
      " 0   Country  243 non-null    object \n",
      " 1   LifeAge  243 non-null    float64\n",
      "dtypes: float64(1), object(1)\n",
      "memory usage: 5.7+ KB\n"
     ]
    }
   ],
   "source": [
    "life_ex.info()"
   ]
  },
  {
   "cell_type": "markdown",
   "metadata": {},
   "source": [
    "##### No missing values. Adjustment of Country-notation to the basic dataset."
   ]
  },
  {
   "cell_type": "code",
   "execution_count": 41,
   "metadata": {},
   "outputs": [],
   "source": [
    "life_ex.at[4428,\"Country\"]= \"Democratic Republic of the Congo\"\n",
    "life_ex.at[3770,\"Country\"]= \"Republic of the Congo\"\n",
    "life_ex.at[4827,\"Country\"]= \"Dominican Republic\"\n",
    "life_ex.at[4358,\"Country\"]= \"Czechia\"\n",
    "life_ex.at[9901,\"Country\"]= \"North Macedonia\"\n",
    "life_ex.at[3986,\"Country\"]= \"Ivory Coast\"\n",
    "life_ex = life_ex.sort_values(by=['Country'], ascending=True)"
   ]
  },
  {
   "cell_type": "markdown",
   "metadata": {},
   "source": [
    "### <center> Dataset \"rel_imp\" for measure of religiousity-importance per country (in %)"
   ]
  },
  {
   "cell_type": "markdown",
   "metadata": {},
   "source": [
    "##### Religiosity = percentage of people claiming themselves as religious"
   ]
  },
  {
   "cell_type": "code",
   "execution_count": 42,
   "metadata": {},
   "outputs": [
    {
     "data": {
      "text/html": [
       "<div>\n",
       "<style scoped>\n",
       "    .dataframe tbody tr th:only-of-type {\n",
       "        vertical-align: middle;\n",
       "    }\n",
       "\n",
       "    .dataframe tbody tr th {\n",
       "        vertical-align: top;\n",
       "    }\n",
       "\n",
       "    .dataframe thead th {\n",
       "        text-align: right;\n",
       "    }\n",
       "</style>\n",
       "<table border=\"1\" class=\"dataframe\">\n",
       "  <thead>\n",
       "    <tr style=\"text-align: right;\">\n",
       "      <th></th>\n",
       "      <th>Country</th>\n",
       "      <th>RelImp</th>\n",
       "    </tr>\n",
       "  </thead>\n",
       "  <tbody>\n",
       "    <tr>\n",
       "      <th>0</th>\n",
       "      <td>Angola</td>\n",
       "      <td>88</td>\n",
       "    </tr>\n",
       "    <tr>\n",
       "      <th>1</th>\n",
       "      <td>Brazil</td>\n",
       "      <td>79</td>\n",
       "    </tr>\n",
       "    <tr>\n",
       "      <th>2</th>\n",
       "      <td>Bulgaria</td>\n",
       "      <td>52</td>\n",
       "    </tr>\n",
       "  </tbody>\n",
       "</table>\n",
       "</div>"
      ],
      "text/plain": [
       "    Country  RelImp\n",
       "0    Angola      88\n",
       "1    Brazil      79\n",
       "2  Bulgaria      52"
      ]
     },
     "execution_count": 42,
     "metadata": {},
     "output_type": "execute_result"
    }
   ],
   "source": [
    "# import of the data, rename the columns and dropping not needed columns\n",
    "rel_imp = pd.read_csv(\"files/religion_vs_GDP_per_Capita.csv\")\n",
    "rel_imp.rename(columns={\"country\": \"Country\", \"religiousity%\" : \"RelImp\"}, inplace=True)\n",
    "rel_imp.drop(['Unnamed: 0', 'US$'], axis = 1, inplace = True)\n",
    "rel_imp.head(3)"
   ]
  },
  {
   "cell_type": "code",
   "execution_count": 43,
   "metadata": {},
   "outputs": [
    {
     "data": {
      "text/plain": [
       "(148, 2)"
      ]
     },
     "execution_count": 43,
     "metadata": {},
     "output_type": "execute_result"
    }
   ],
   "source": [
    "rel_imp.shape"
   ]
  },
  {
   "cell_type": "code",
   "execution_count": 44,
   "metadata": {},
   "outputs": [
    {
     "name": "stdout",
     "output_type": "stream",
     "text": [
      "<class 'pandas.core.frame.DataFrame'>\n",
      "RangeIndex: 148 entries, 0 to 147\n",
      "Data columns (total 2 columns):\n",
      " #   Column   Non-Null Count  Dtype \n",
      "---  ------   --------------  ----- \n",
      " 0   Country  148 non-null    object\n",
      " 1   RelImp   148 non-null    int64 \n",
      "dtypes: int64(1), object(1)\n",
      "memory usage: 2.4+ KB\n"
     ]
    }
   ],
   "source": [
    "rel_imp.info()"
   ]
  },
  {
   "cell_type": "markdown",
   "metadata": {},
   "source": [
    "##### No missing values. Adjustment of Country-notation to the basic dataset."
   ]
  },
  {
   "cell_type": "code",
   "execution_count": 45,
   "metadata": {},
   "outputs": [],
   "source": [
    "rel_imp.at[73,\"Country\"]= \"Czechia\"\n",
    "rel_imp.at[141,\"Country\"]= \"North Macedonia\"\n",
    "rel_imp = rel_imp.sort_values(by=['Country'], ascending=True)"
   ]
  },
  {
   "cell_type": "markdown",
   "metadata": {},
   "source": [
    "### <center> Dataset \"peace\" for World Peace Index. \n",
    "##### Data from the Institute for Economics and Peace. The values has to be read with scepticism, so I just use the ranking. "
   ]
  },
  {
   "cell_type": "code",
   "execution_count": 46,
   "metadata": {},
   "outputs": [
    {
     "data": {
      "text/html": [
       "<div>\n",
       "<style scoped>\n",
       "    .dataframe tbody tr th:only-of-type {\n",
       "        vertical-align: middle;\n",
       "    }\n",
       "\n",
       "    .dataframe tbody tr th {\n",
       "        vertical-align: top;\n",
       "    }\n",
       "\n",
       "    .dataframe thead th {\n",
       "        text-align: right;\n",
       "    }\n",
       "</style>\n",
       "<table border=\"1\" class=\"dataframe\">\n",
       "  <thead>\n",
       "    <tr style=\"text-align: right;\">\n",
       "      <th></th>\n",
       "      <th>Country</th>\n",
       "      <th>PeaceRk</th>\n",
       "    </tr>\n",
       "  </thead>\n",
       "  <tbody>\n",
       "    <tr>\n",
       "      <th>157</th>\n",
       "      <td>Afghanistan</td>\n",
       "      <td>159</td>\n",
       "    </tr>\n",
       "    <tr>\n",
       "      <th>50</th>\n",
       "      <td>Albania</td>\n",
       "      <td>60</td>\n",
       "    </tr>\n",
       "    <tr>\n",
       "      <th>110</th>\n",
       "      <td>Algeria</td>\n",
       "      <td>107</td>\n",
       "    </tr>\n",
       "  </tbody>\n",
       "</table>\n",
       "</div>"
      ],
      "text/plain": [
       "         Country  PeaceRk\n",
       "157  Afghanistan      159\n",
       "50       Albania       60\n",
       "110      Algeria      107"
      ]
     },
     "execution_count": 46,
     "metadata": {},
     "output_type": "execute_result"
    }
   ],
   "source": [
    "# import of the data, rename the columns and get the two columns I need\n",
    "peace1 = pd.read_csv(\"files/gpi-2008-2019.csv\")\n",
    "peace = peace1.sort_values('Country', ascending=True)\n",
    "peace = peace[[\"Country\", \"2017 rank\"]]\n",
    "peace.rename(columns={\"2017 rank\": \"PeaceRk\"}, inplace=True)\n",
    "peace.head(3)"
   ]
  },
  {
   "cell_type": "code",
   "execution_count": 47,
   "metadata": {},
   "outputs": [
    {
     "data": {
      "text/plain": [
       "(163, 2)"
      ]
     },
     "execution_count": 47,
     "metadata": {},
     "output_type": "execute_result"
    }
   ],
   "source": [
    "peace.shape"
   ]
  },
  {
   "cell_type": "code",
   "execution_count": 48,
   "metadata": {},
   "outputs": [
    {
     "name": "stdout",
     "output_type": "stream",
     "text": [
      "<class 'pandas.core.frame.DataFrame'>\n",
      "Int64Index: 163 entries, 157 to 131\n",
      "Data columns (total 2 columns):\n",
      " #   Column   Non-Null Count  Dtype \n",
      "---  ------   --------------  ----- \n",
      " 0   Country  163 non-null    object\n",
      " 1   PeaceRk  163 non-null    int64 \n",
      "dtypes: int64(1), object(1)\n",
      "memory usage: 3.8+ KB\n"
     ]
    }
   ],
   "source": [
    "peace.info()"
   ]
  },
  {
   "cell_type": "markdown",
   "metadata": {},
   "source": [
    "##### No missing values. Adjustment of Country-notation to the basic dataset."
   ]
  },
  {
   "cell_type": "code",
   "execution_count": 49,
   "metadata": {},
   "outputs": [],
   "source": [
    "peace.at[94,\"Country\"]= \"Kyrgyzstan\"\n",
    "peace.at[106,\"Country\"]= \"Ivory Coast\"\n",
    "peace = peace.sort_values(by=['Country'], ascending=True)"
   ]
  },
  {
   "cell_type": "markdown",
   "metadata": {},
   "source": [
    "### <center> Dataset \"corrupt\" for World Corruption Index.\n",
    "From Transparency International: The CPI scores and ranks countries/territories based on how corrupt a country’s public sector is perceived to be. It is a composite index, a combination of surveys and assessments of corruption, collected by a variety of reputable institutions. The CPI is the most widely used indicator of corruption worldwide. Higher score means less corruption."
   ]
  },
  {
   "cell_type": "code",
   "execution_count": 50,
   "metadata": {},
   "outputs": [
    {
     "data": {
      "text/html": [
       "<div>\n",
       "<style scoped>\n",
       "    .dataframe tbody tr th:only-of-type {\n",
       "        vertical-align: middle;\n",
       "    }\n",
       "\n",
       "    .dataframe tbody tr th {\n",
       "        vertical-align: top;\n",
       "    }\n",
       "\n",
       "    .dataframe thead th {\n",
       "        text-align: right;\n",
       "    }\n",
       "</style>\n",
       "<table border=\"1\" class=\"dataframe\">\n",
       "  <thead>\n",
       "    <tr style=\"text-align: right;\">\n",
       "      <th></th>\n",
       "      <th>Country</th>\n",
       "      <th>CorruptSc</th>\n",
       "      <th>CorruptRk</th>\n",
       "    </tr>\n",
       "  </thead>\n",
       "  <tbody>\n",
       "    <tr>\n",
       "      <th>176</th>\n",
       "      <td>Afghanistan</td>\n",
       "      <td>15</td>\n",
       "      <td>177</td>\n",
       "    </tr>\n",
       "    <tr>\n",
       "      <th>93</th>\n",
       "      <td>Albania</td>\n",
       "      <td>38</td>\n",
       "      <td>91</td>\n",
       "    </tr>\n",
       "    <tr>\n",
       "      <th>112</th>\n",
       "      <td>Algeria</td>\n",
       "      <td>33</td>\n",
       "      <td>112</td>\n",
       "    </tr>\n",
       "  </tbody>\n",
       "</table>\n",
       "</div>"
      ],
      "text/plain": [
       "         Country  CorruptSc  CorruptRk\n",
       "176  Afghanistan         15        177\n",
       "93       Albania         38         91\n",
       "112      Algeria         33        112"
      ]
     },
     "execution_count": 50,
     "metadata": {},
     "output_type": "execute_result"
    }
   ],
   "source": [
    "# import of the data, rename the columns and get the three columns I need\n",
    "corrupt1 = pd.read_csv(\"files/CPI_2017_final_dataset.csv\")\n",
    "corrupt = corrupt1.sort_values('Country', ascending=True)\n",
    "corrupt = corrupt[[\"Country\", \"CPI Score 2017\", \"Rank 2017\"]]\n",
    "corrupt.rename(columns={\"CPI Score 2017\": \"CorruptSc\", \"Rank 2017\": \"CorruptRk\"}, inplace=True)\n",
    "corrupt.head(3)"
   ]
  },
  {
   "cell_type": "code",
   "execution_count": 51,
   "metadata": {},
   "outputs": [
    {
     "data": {
      "text/plain": [
       "(180, 3)"
      ]
     },
     "execution_count": 51,
     "metadata": {},
     "output_type": "execute_result"
    }
   ],
   "source": [
    "corrupt.shape"
   ]
  },
  {
   "cell_type": "code",
   "execution_count": 52,
   "metadata": {},
   "outputs": [
    {
     "name": "stdout",
     "output_type": "stream",
     "text": [
      "<class 'pandas.core.frame.DataFrame'>\n",
      "Int64Index: 180 entries, 176 to 156\n",
      "Data columns (total 3 columns):\n",
      " #   Column     Non-Null Count  Dtype \n",
      "---  ------     --------------  ----- \n",
      " 0   Country    180 non-null    object\n",
      " 1   CorruptSc  180 non-null    int64 \n",
      " 2   CorruptRk  180 non-null    int64 \n",
      "dtypes: int64(2), object(1)\n",
      "memory usage: 5.6+ KB\n"
     ]
    }
   ],
   "source": [
    "corrupt.info()"
   ]
  },
  {
   "cell_type": "markdown",
   "metadata": {},
   "source": [
    "##### No missing values. Adjustment of Country-notation to the basic dataset."
   ]
  },
  {
   "cell_type": "code",
   "execution_count": 53,
   "metadata": {},
   "outputs": [],
   "source": [
    "corrupt.at[50,\"Country\"]= \"South Korea\"\n",
    "corrupt.at[43,\"Country\"]= \"Czechia\"\n",
    "corrupt.at[15,\"Country\"]= \"United States\"\n",
    "corrupt.at[160,\"Country\"]= \"Republic of the Congo\"\n",
    "corrupt.at[102,\"Country\"]= \"Ivory Coast\"\n",
    "corrupt.at[172,\"Country\"]= \"North Korea\"\n",
    "corrupt.at[108,\"Country\"]= \"North Macedonia\"\n",
    "corrupt = corrupt.sort_values(by=['Country'], ascending=True)"
   ]
  },
  {
   "cell_type": "markdown",
   "metadata": {},
   "source": [
    "### <center> Dataset Gender Inequality Index (GII)\n",
    "\n",
    "Original-Data is from the United Nations Development Programme. Gender inequality remains a major barrier to human development. Girls and women have made major strides since 1990, but they have not yet gained gender equity. The disadvantages facing women and girls are a major source of inequality. All too often, women and girls are discriminated against in health, education, political representation, labour market, etc.—with negative consequences for development of their capabilities and their freedom of choice.\n",
    "\n",
    "The GII is an inequality index. It measures gender inequalities in three important aspects of human development—reproductive health, measured by maternal mortality ratio and adolescent birth rates; empowerment, measured by proportion of parliamentary seats occupied by females and proportion of adult females and males aged 25 years and older with at least some secondary education; and economic status, expressed as labour market participation and measured by labour force participation rate of female and male populations aged 15 years and older. The GII is built on the same framework as the IHDI—to better expose differences in the distribution of achievements between women and men. It measures the human development costs of gender inequality. Thus the higher the GII value the more disparities between females and males and the more loss to human development.\n",
    "\n",
    "The GII sheds new light on the position of women in 162 countries; it yields insights in gender gaps in major areas of human development. The component indicators highlight areas in need of critical policy intervention and it stimulates proactive thinking and public policy to overcome"
   ]
  },
  {
   "cell_type": "code",
   "execution_count": 54,
   "metadata": {},
   "outputs": [
    {
     "data": {
      "text/html": [
       "<div>\n",
       "<style scoped>\n",
       "    .dataframe tbody tr th:only-of-type {\n",
       "        vertical-align: middle;\n",
       "    }\n",
       "\n",
       "    .dataframe tbody tr th {\n",
       "        vertical-align: top;\n",
       "    }\n",
       "\n",
       "    .dataframe thead th {\n",
       "        text-align: right;\n",
       "    }\n",
       "</style>\n",
       "<table border=\"1\" class=\"dataframe\">\n",
       "  <thead>\n",
       "    <tr style=\"text-align: right;\">\n",
       "      <th></th>\n",
       "      <th>Country</th>\n",
       "      <th>GendEqual</th>\n",
       "    </tr>\n",
       "  </thead>\n",
       "  <tbody>\n",
       "    <tr>\n",
       "      <th>0</th>\n",
       "      <td>Afghanistan</td>\n",
       "      <td>0.653</td>\n",
       "    </tr>\n",
       "    <tr>\n",
       "      <th>1</th>\n",
       "      <td>Albania</td>\n",
       "      <td>0.238</td>\n",
       "    </tr>\n",
       "    <tr>\n",
       "      <th>2</th>\n",
       "      <td>Algeria</td>\n",
       "      <td>0.442</td>\n",
       "    </tr>\n",
       "  </tbody>\n",
       "</table>\n",
       "</div>"
      ],
      "text/plain": [
       "        Country  GendEqual\n",
       "0   Afghanistan      0.653\n",
       "1       Albania      0.238\n",
       "2       Algeria      0.442"
      ]
     },
     "execution_count": 54,
     "metadata": {},
     "output_type": "execute_result"
    }
   ],
   "source": [
    "# import of the data, rename the columns and get the two columns I need\n",
    "gie = pd.read_csv(\"files/Gender Inequality Index (1).csv\")\n",
    "gie = gie[[\"Country\", \"2017\"]]\n",
    "gie.rename(columns={\"2017\": \"GendEqual\"}, inplace=True)\n",
    "gie.head(3)"
   ]
  },
  {
   "cell_type": "code",
   "execution_count": 55,
   "metadata": {},
   "outputs": [
    {
     "data": {
      "text/plain": [
       "(161, 2)"
      ]
     },
     "execution_count": 55,
     "metadata": {},
     "output_type": "execute_result"
    }
   ],
   "source": [
    "gie.shape"
   ]
  },
  {
   "cell_type": "code",
   "execution_count": 56,
   "metadata": {},
   "outputs": [
    {
     "name": "stdout",
     "output_type": "stream",
     "text": [
      "<class 'pandas.core.frame.DataFrame'>\n",
      "RangeIndex: 161 entries, 0 to 160\n",
      "Data columns (total 2 columns):\n",
      " #   Column     Non-Null Count  Dtype  \n",
      "---  ------     --------------  -----  \n",
      " 0   Country    160 non-null    object \n",
      " 1   GendEqual  157 non-null    float64\n",
      "dtypes: float64(1), object(1)\n",
      "memory usage: 2.6+ KB\n"
     ]
    }
   ],
   "source": [
    "gie.info()"
   ]
  },
  {
   "cell_type": "markdown",
   "metadata": {},
   "source": [
    "##### I took the missing values for Chile (0.720), Côte d'Ivoire (0.841) and Honduras(0.479) from the Internet and drop the last row, which has no values."
   ]
  },
  {
   "cell_type": "code",
   "execution_count": 57,
   "metadata": {},
   "outputs": [],
   "source": [
    "gie.at[30,\"GendEqual\"]= 0.720 # Chile\n",
    "gie.at[40,\"GendEqual\"]= 0.841 # Côte d'Ivoire\n",
    "gie.at[61,\"GendEqual\"]= 0.479 # Honduras\n",
    "gie = gie[:-1] "
   ]
  },
  {
   "cell_type": "code",
   "execution_count": 58,
   "metadata": {},
   "outputs": [
    {
     "name": "stdout",
     "output_type": "stream",
     "text": [
      "<class 'pandas.core.frame.DataFrame'>\n",
      "RangeIndex: 160 entries, 0 to 159\n",
      "Data columns (total 2 columns):\n",
      " #   Column     Non-Null Count  Dtype  \n",
      "---  ------     --------------  -----  \n",
      " 0   Country    160 non-null    object \n",
      " 1   GendEqual  160 non-null    float64\n",
      "dtypes: float64(1), object(1)\n",
      "memory usage: 2.6+ KB\n"
     ]
    }
   ],
   "source": [
    "gie.info()"
   ]
  },
  {
   "cell_type": "code",
   "execution_count": 59,
   "metadata": {},
   "outputs": [
    {
     "name": "stdout",
     "output_type": "stream",
     "text": [
      "['Country', 'GendEqual']\n"
     ]
    }
   ],
   "source": [
    "# Creating a list of columns for easier dropping with copy/paste\n",
    "col_list_gie = list(gie)\n",
    "print(col_list_gie)"
   ]
  },
  {
   "cell_type": "markdown",
   "metadata": {},
   "source": [
    "##### The countries in this dataset have \"space\" as first sign"
   ]
  },
  {
   "cell_type": "code",
   "execution_count": 60,
   "metadata": {},
   "outputs": [
    {
     "name": "stdout",
     "output_type": "stream",
     "text": [
      "[' Afghanistan' ' Albania' ' Algeria' ' Argentina' ' Armenia']\n"
     ]
    }
   ],
   "source": [
    "a = gie['Country'].unique()\n",
    "print(a[0:5])"
   ]
  },
  {
   "cell_type": "markdown",
   "metadata": {},
   "source": [
    "##### For later merging it must be deleted"
   ]
  },
  {
   "cell_type": "code",
   "execution_count": 61,
   "metadata": {},
   "outputs": [],
   "source": [
    "# Deleting the first sign (spaces) of the countries\n",
    "cols_to_check = ['Country'] # defining the list\n",
    "for col in cols_to_check: \n",
    "    gie[col] = gie[col].apply(lambda x : x[1:] if x.startswith(\" \") else x) # deleting the space with a lamda function"
   ]
  },
  {
   "cell_type": "markdown",
   "metadata": {},
   "source": [
    "##### No missing values. Adjustment of Country-notation to the basic dataset."
   ]
  },
  {
   "cell_type": "code",
   "execution_count": 62,
   "metadata": {},
   "outputs": [],
   "source": [
    "gie.at[33,\"Country\"]= \"Republic of the Congo\"\n",
    "gie.at[34,\"Country\"]= \"Democratic Republic of the Congo\"\n",
    "gie.at[76,\"Country\"]= \"South Korea\"\n",
    "gie.at[142,\"Country\"]= \"North Macedonia\"\n",
    "gie.at[156,\"Country\"]= \"Vietnam\"\n",
    "gie.at[66,\"Country\"]= \"Iran\"\n",
    "gie.at[40,\"Country\"]= \"Ivory Coast\"\n",
    "gie.at[95,\"Country\"]= \"Moldova\"\n",
    "gie.at[119,\"Country\"]= \"Russia\"\n",
    "gie.at[155,\"Country\"]= \"Venezuela\"\n",
    "gie = gie.sort_values(by=['Country'], ascending=True)"
   ]
  },
  {
   "cell_type": "markdown",
   "metadata": {},
   "source": [
    "### <center> The Human Development Index (HDI) \n",
    "A statistic composite index - also from the United Nations Development Programme - of life expectancy, education (Literacy Rate, Gross Enrollment Ratio at different levels and Net Attendance Ratio), and per capita income indicators, which are used to rank countries into four tiers of human development. A country scores a higher HDI when the lifespan is higher, the education level is higher, and the gross national income GNI (PPP) per capita is higher."
   ]
  },
  {
   "cell_type": "code",
   "execution_count": 63,
   "metadata": {},
   "outputs": [
    {
     "data": {
      "text/html": [
       "<div>\n",
       "<style scoped>\n",
       "    .dataframe tbody tr th:only-of-type {\n",
       "        vertical-align: middle;\n",
       "    }\n",
       "\n",
       "    .dataframe tbody tr th {\n",
       "        vertical-align: top;\n",
       "    }\n",
       "\n",
       "    .dataframe thead th {\n",
       "        text-align: right;\n",
       "    }\n",
       "</style>\n",
       "<table border=\"1\" class=\"dataframe\">\n",
       "  <thead>\n",
       "    <tr style=\"text-align: right;\">\n",
       "      <th></th>\n",
       "      <th>Country</th>\n",
       "      <th>HumDevRk</th>\n",
       "      <th>HumDevSc</th>\n",
       "    </tr>\n",
       "  </thead>\n",
       "  <tbody>\n",
       "    <tr>\n",
       "      <th>184</th>\n",
       "      <td>Vanuatu</td>\n",
       "      <td>141</td>\n",
       "      <td>0.595</td>\n",
       "    </tr>\n",
       "    <tr>\n",
       "      <th>185</th>\n",
       "      <td>Venezuela (Bolivarian Republic of)</td>\n",
       "      <td>96</td>\n",
       "      <td>0.735</td>\n",
       "    </tr>\n",
       "    <tr>\n",
       "      <th>186</th>\n",
       "      <td>Viet Nam</td>\n",
       "      <td>118</td>\n",
       "      <td>0.690</td>\n",
       "    </tr>\n",
       "    <tr>\n",
       "      <th>187</th>\n",
       "      <td>Yemen</td>\n",
       "      <td>177</td>\n",
       "      <td>0.463</td>\n",
       "    </tr>\n",
       "    <tr>\n",
       "      <th>188</th>\n",
       "      <td>Zambia</td>\n",
       "      <td>143</td>\n",
       "      <td>0.589</td>\n",
       "    </tr>\n",
       "    <tr>\n",
       "      <th>189</th>\n",
       "      <td>Zimbabwe</td>\n",
       "      <td>150</td>\n",
       "      <td>0.553</td>\n",
       "    </tr>\n",
       "    <tr>\n",
       "      <th>197</th>\n",
       "      <td>Arab States</td>\n",
       "      <td></td>\n",
       "      <td>0.701</td>\n",
       "    </tr>\n",
       "    <tr>\n",
       "      <th>195</th>\n",
       "      <td>Developing Countries</td>\n",
       "      <td></td>\n",
       "      <td>0.683</td>\n",
       "    </tr>\n",
       "    <tr>\n",
       "      <th>198</th>\n",
       "      <td>East Asia and the Pacific</td>\n",
       "      <td></td>\n",
       "      <td>0.737</td>\n",
       "    </tr>\n",
       "    <tr>\n",
       "      <th>199</th>\n",
       "      <td>Europe and Central Asia</td>\n",
       "      <td></td>\n",
       "      <td>0.776</td>\n",
       "    </tr>\n",
       "    <tr>\n",
       "      <th>192</th>\n",
       "      <td>High human development</td>\n",
       "      <td></td>\n",
       "      <td>0.746</td>\n",
       "    </tr>\n",
       "    <tr>\n",
       "      <th>190</th>\n",
       "      <td>Human Development</td>\n",
       "      <td>NaN</td>\n",
       "      <td>..</td>\n",
       "    </tr>\n",
       "    <tr>\n",
       "      <th>200</th>\n",
       "      <td>Latin America and the Caribbean</td>\n",
       "      <td></td>\n",
       "      <td>0.758</td>\n",
       "    </tr>\n",
       "    <tr>\n",
       "      <th>203</th>\n",
       "      <td>Least Developed Countries</td>\n",
       "      <td></td>\n",
       "      <td>0.525</td>\n",
       "    </tr>\n",
       "    <tr>\n",
       "      <th>194</th>\n",
       "      <td>Low human development</td>\n",
       "      <td></td>\n",
       "      <td>0.505</td>\n",
       "    </tr>\n",
       "    <tr>\n",
       "      <th>193</th>\n",
       "      <td>Medium human development</td>\n",
       "      <td></td>\n",
       "      <td>0.630</td>\n",
       "    </tr>\n",
       "    <tr>\n",
       "      <th>205</th>\n",
       "      <td>Organization for Economic Co-operation and Dev...</td>\n",
       "      <td></td>\n",
       "      <td>0.894</td>\n",
       "    </tr>\n",
       "    <tr>\n",
       "      <th>196</th>\n",
       "      <td>Regions</td>\n",
       "      <td>NaN</td>\n",
       "      <td>..</td>\n",
       "    </tr>\n",
       "    <tr>\n",
       "      <th>204</th>\n",
       "      <td>Small Island Developing States</td>\n",
       "      <td></td>\n",
       "      <td>0.722</td>\n",
       "    </tr>\n",
       "    <tr>\n",
       "      <th>201</th>\n",
       "      <td>South Asia</td>\n",
       "      <td></td>\n",
       "      <td>0.639</td>\n",
       "    </tr>\n",
       "    <tr>\n",
       "      <th>202</th>\n",
       "      <td>Sub-Saharan Africa</td>\n",
       "      <td></td>\n",
       "      <td>0.539</td>\n",
       "    </tr>\n",
       "    <tr>\n",
       "      <th>191</th>\n",
       "      <td>Very high human development</td>\n",
       "      <td></td>\n",
       "      <td>0.890</td>\n",
       "    </tr>\n",
       "    <tr>\n",
       "      <th>206</th>\n",
       "      <td>World</td>\n",
       "      <td></td>\n",
       "      <td>0.729</td>\n",
       "    </tr>\n",
       "    <tr>\n",
       "      <th>0</th>\n",
       "      <td>NaN</td>\n",
       "      <td>Human Development Index (HDI)\\nnull\\nDimension...</td>\n",
       "      <td>NaN</td>\n",
       "    </tr>\n",
       "    <tr>\n",
       "      <th>207</th>\n",
       "      <td>NaN</td>\n",
       "      <td>NaN</td>\n",
       "      <td>NaN</td>\n",
       "    </tr>\n",
       "  </tbody>\n",
       "</table>\n",
       "</div>"
      ],
      "text/plain": [
       "                                               Country  \\\n",
       "184                                            Vanuatu   \n",
       "185                 Venezuela (Bolivarian Republic of)   \n",
       "186                                           Viet Nam   \n",
       "187                                              Yemen   \n",
       "188                                             Zambia   \n",
       "189                                           Zimbabwe   \n",
       "197                                        Arab States   \n",
       "195                               Developing Countries   \n",
       "198                          East Asia and the Pacific   \n",
       "199                            Europe and Central Asia   \n",
       "192                             High human development   \n",
       "190                                  Human Development   \n",
       "200                    Latin America and the Caribbean   \n",
       "203                          Least Developed Countries   \n",
       "194                              Low human development   \n",
       "193                           Medium human development   \n",
       "205  Organization for Economic Co-operation and Dev...   \n",
       "196                                            Regions   \n",
       "204                     Small Island Developing States   \n",
       "201                                         South Asia   \n",
       "202                                 Sub-Saharan Africa   \n",
       "191                        Very high human development   \n",
       "206                                              World   \n",
       "0                                                  NaN   \n",
       "207                                                NaN   \n",
       "\n",
       "                                              HumDevRk HumDevSc  \n",
       "184                                                141    0.595  \n",
       "185                                                 96    0.735  \n",
       "186                                                118    0.690  \n",
       "187                                                177    0.463  \n",
       "188                                                143    0.589  \n",
       "189                                                150    0.553  \n",
       "197                                                       0.701  \n",
       "195                                                       0.683  \n",
       "198                                                       0.737  \n",
       "199                                                       0.776  \n",
       "192                                                       0.746  \n",
       "190                                                NaN       ..  \n",
       "200                                                       0.758  \n",
       "203                                                       0.525  \n",
       "194                                                       0.505  \n",
       "193                                                       0.630  \n",
       "205                                                       0.894  \n",
       "196                                                NaN       ..  \n",
       "204                                                       0.722  \n",
       "201                                                       0.639  \n",
       "202                                                       0.539  \n",
       "191                                                       0.890  \n",
       "206                                                       0.729  \n",
       "0    Human Development Index (HDI)\\nnull\\nDimension...      NaN  \n",
       "207                                                NaN      NaN  "
      ]
     },
     "execution_count": 63,
     "metadata": {},
     "output_type": "execute_result"
    }
   ],
   "source": [
    "# import of the data, rename the columns and get the three columns I need\n",
    "hdi = pd.read_csv(\"files/Human Development Index (HDI).csv\")\n",
    "hdi = hdi.sort_values('Country', ascending=True)\n",
    "hdi = hdi[[\"Country\", \"HDI Rank\", \"2017\"]]\n",
    "hdi.rename(columns={\"HDI Rank\": \"HumDevRk\", \"2017\": \"HumDevSc\"}, inplace=True)\n",
    "hdi.tail(25)"
   ]
  },
  {
   "cell_type": "markdown",
   "metadata": {},
   "source": [
    "##### Dropping the (for me) useless Data from Index 189 on "
   ]
  },
  {
   "cell_type": "code",
   "execution_count": 64,
   "metadata": {},
   "outputs": [
    {
     "name": "stdout",
     "output_type": "stream",
     "text": [
      "<class 'pandas.core.frame.DataFrame'>\n",
      "Int64Index: 189 entries, 1 to 189\n",
      "Data columns (total 3 columns):\n",
      " #   Column    Non-Null Count  Dtype \n",
      "---  ------    --------------  ----- \n",
      " 0   Country   189 non-null    object\n",
      " 1   HumDevRk  189 non-null    object\n",
      " 2   HumDevSc  189 non-null    object\n",
      "dtypes: object(3)\n",
      "memory usage: 5.9+ KB\n"
     ]
    }
   ],
   "source": [
    "# selecting the rows I can use\n",
    "hdi = hdi[0:189] \n",
    "hdi.info()"
   ]
  },
  {
   "cell_type": "markdown",
   "metadata": {},
   "source": [
    "##### Change Datatype of numeric Columns from Object"
   ]
  },
  {
   "cell_type": "code",
   "execution_count": 65,
   "metadata": {},
   "outputs": [
    {
     "name": "stdout",
     "output_type": "stream",
     "text": [
      "<class 'pandas.core.frame.DataFrame'>\n",
      "Int64Index: 189 entries, 1 to 189\n",
      "Data columns (total 3 columns):\n",
      " #   Column    Non-Null Count  Dtype  \n",
      "---  ------    --------------  -----  \n",
      " 0   Country   189 non-null    object \n",
      " 1   HumDevRk  189 non-null    int64  \n",
      " 2   HumDevSc  189 non-null    float64\n",
      "dtypes: float64(1), int64(1), object(1)\n",
      "memory usage: 5.9+ KB\n"
     ]
    }
   ],
   "source": [
    "b = list(hdi.columns.values) \n",
    "del b[0] # \"Country\"\n",
    "def changetyp(i): # Function to change Datatype for both numeric columns\n",
    "    for i in b:\n",
    "        hdi[i] = pd.to_numeric(hdi[i], errors='coerce')\n",
    "changetyp(b)\n",
    "hdi.info()"
   ]
  },
  {
   "cell_type": "markdown",
   "metadata": {},
   "source": [
    "##### Also here the countries \"space\" as first sign"
   ]
  },
  {
   "cell_type": "code",
   "execution_count": 66,
   "metadata": {},
   "outputs": [
    {
     "name": "stdout",
     "output_type": "stream",
     "text": [
      "[' Afghanistan' ' Albania' ' Algeria' ' Andorra' ' Angola']\n"
     ]
    }
   ],
   "source": [
    "a = hdi['Country'].unique()\n",
    "print(a[0:5])"
   ]
  },
  {
   "cell_type": "markdown",
   "metadata": {},
   "source": [
    "##### For later merging it must be deleted also here"
   ]
  },
  {
   "cell_type": "code",
   "execution_count": 67,
   "metadata": {},
   "outputs": [],
   "source": [
    "# Deleting the first sign (spaces) of the countries with the same function like at the dataset before\n",
    "cols_to_check = ['Country']\n",
    "for col in cols_to_check:\n",
    "    hdi[col] = hdi[col].apply(lambda x : x[1:] if x.startswith(\" \") else x)"
   ]
  },
  {
   "cell_type": "code",
   "execution_count": 68,
   "metadata": {},
   "outputs": [
    {
     "name": "stdout",
     "output_type": "stream",
     "text": [
      "['Afghanistan', 'Andorra', 'Antigua and Barbuda', 'Bolivia (Plurinational State of)', 'Cabo Verde', 'Comoros', 'Congo', 'Congo (Democratic Republic of the)', 'Cuba', \"Côte d'Ivoire\", 'Djibouti', 'Dominica', 'Equatorial Guinea', 'Eritrea', 'Eswatini (Kingdom of)', 'Gambia', 'Grenada', 'Hong Kong, China (SAR)', 'Iran (Islamic Republic of)', 'Kiribati', 'Korea (Republic of)', \"Lao People's Democratic Republic\", 'Liechtenstein', 'Maldives', 'Marshall Islands', 'Micronesia (Federated States of)', 'Moldova (Republic of)', 'Palau', 'Palestine, State of', 'Papua New Guinea', 'Russian Federation', 'Saint Kitts and Nevis', 'Saint Lucia', 'Saint Vincent and the Grenadines', 'Samoa', 'Sao Tome and Principe', 'Solomon Islands', 'South Sudan', 'Syrian Arab Republic', 'Tanzania (United Republic of)', 'Tonga', 'Turkmenistan', 'Uzbekistan', 'Vanuatu', 'Venezuela (Bolivarian Republic of)', 'Viet Nam']\n"
     ]
    }
   ],
   "source": [
    "# checking for countries with other notation at the basic dataset. \n",
    "c_names_diff = []\n",
    "for i in hdi['Country'].unique():\n",
    "    if i not in basic['Country'].unique():\n",
    "        c_names_diff.append(i)\n",
    "print(c_names_diff)"
   ]
  },
  {
   "cell_type": "code",
   "execution_count": 69,
   "metadata": {},
   "outputs": [],
   "source": [
    "# and like in the datasets before I correct the notation\n",
    "hdi.at[40,\"Country\"]= \"Democratic Republic of the Congo\"\n",
    "hdi.at[39,\"Country\"]= \"Republic of the Congo\"\n",
    "hdi.at[114,\"Country\"]= \"Moldova\"\n",
    "hdi.at[91,\"Country\"]= \"South Korea\"\n",
    "hdi.at[142,\"Country\"]= \"Russia\"\n",
    "hdi.at[186,\"Country\"]= \"Vietnam\"\n",
    "hdi.at[46,\"Country\"]= \"Ivory Coast\"\n",
    "hdi.at[168,\"Country\"]= \"Tanzania\"\n",
    "hdi.at[185,\"Country\"]= \"Venezuela\"\n",
    "hdi.at[75,\"Country\"]= \"Hong Kong\"\n",
    "hdi.at[166,\"Country\"]= \"Syria\"\n",
    "hdi.at[21,\"Country\"]= \"Bolivia\"\n",
    "hdi.at[80,\"Country\"]= \"Iran\"\n",
    "hdi = hdi.sort_values(by=['Country'], ascending=True)"
   ]
  },
  {
   "cell_type": "markdown",
   "metadata": {},
   "source": [
    "## <center> The Datasets are prepared for merging"
   ]
  },
  {
   "cell_type": "markdown",
   "metadata": {},
   "source": [
    "##### NOTE: At first I wanted to put six more countries to the basic data set. Later I decided against these countries because they had to much missing values. So I haven't used the code below."
   ]
  },
  {
   "cell_type": "code",
   "execution_count": 70,
   "metadata": {},
   "outputs": [],
   "source": [
    "#mergehelp = life_ex.T\n",
    "#mergehelp2 = mergehelp[[67, 4137, 12309, 17373, 18313]] # 'Afghanistan', 'Cuba', 'North Korea', 'Turkmenistan', 'Uzbekistan'\n",
    "#m3 = mergehelp2.T\n",
    "#m3 = m3[[\"Country\"]]\n",
    "#df1 = pd.merge(basic, m3, on='Country', how = \"outer\")\n",
    "#df1 = df1.sort_values(by=['Country'], ascending=True)\n",
    "#print(\"basic-shape = \" + str(basic.shape))\n",
    "#print(\"Filling-shape = \" + str(m3.shape))\n",
    "#print(\"df-shape = \" + str(df1.shape))\n",
    "#df1.info()"
   ]
  },
  {
   "cell_type": "markdown",
   "metadata": {},
   "source": [
    "## <center> Now merging the 8 other Datasets to my basic dataframe "
   ]
  },
  {
   "cell_type": "code",
   "execution_count": 71,
   "metadata": {},
   "outputs": [
    {
     "name": "stdout",
     "output_type": "stream",
     "text": [
      "<class 'pandas.core.frame.DataFrame'>\n",
      "Int64Index: 162 entries, 0 to 161\n",
      "Data columns (total 28 columns):\n",
      " #   Column          Non-Null Count  Dtype  \n",
      "---  ------          --------------  -----  \n",
      " 0   ISO_code        162 non-null    object \n",
      " 1   Country         162 non-null    object \n",
      " 2   Region          162 non-null    object \n",
      " 3   FreeSc          162 non-null    float64\n",
      " 4   FreeRk          162 non-null    float64\n",
      " 5   FreeQuart       162 non-null    float64\n",
      " 6   RoLaw           162 non-null    float64\n",
      " 7   FemSafe         162 non-null    float64\n",
      " 8   PersSafe        162 non-null    float64\n",
      " 9   RelFree         162 non-null    float64\n",
      " 10  ExpFree         162 non-null    float64\n",
      " 11  GenderIdty      162 non-null    float64\n",
      " 12  PersFreeSc      162 non-null    float64\n",
      " 13  PersFreeRk      162 non-null    float64\n",
      " 14  EcoFreeSc       162 non-null    float64\n",
      " 15  EcoFreeRk       162 non-null    float64\n",
      " 16  HappyRk         147 non-null    float64\n",
      " 17  HappySc         147 non-null    float64\n",
      " 18  GDP_per_capita  155 non-null    float64\n",
      " 19  Population      155 non-null    float64\n",
      " 20  LifeAge         157 non-null    float64\n",
      " 21  RelImp          140 non-null    float64\n",
      " 22  PeaceRk         148 non-null    float64\n",
      " 23  CorruptSc       155 non-null    float64\n",
      " 24  CorruptRk       155 non-null    float64\n",
      " 25  GendEqual       145 non-null    float64\n",
      " 26  HumDevRk        156 non-null    float64\n",
      " 27  HumDevSc        156 non-null    float64\n",
      "dtypes: float64(25), object(3)\n",
      "memory usage: 36.7+ KB\n"
     ]
    }
   ],
   "source": [
    "# For my better overview I merged them one after the other\n",
    "df = pd.merge(basic, happy, on=\"Country\", how = \"left\")\n",
    "df = pd.merge(df, gdp, on='Country', how = \"left\")\n",
    "df = pd.merge(df, life_ex, on='Country', how = \"left\")\n",
    "df = pd.merge(df, rel_imp, on='Country', how = \"left\")\n",
    "df = pd.merge(df, peace, on='Country', how = \"left\")\n",
    "df = pd.merge(df, corrupt, on='Country', how = \"left\")\n",
    "df = pd.merge(df, gie, on='Country', how = \"left\")\n",
    "df = pd.merge(df, hdi, on='Country', how = \"left\")\n",
    "df.info()"
   ]
  },
  {
   "cell_type": "code",
   "execution_count": 72,
   "metadata": {
    "jupyter": {
     "source_hidden": true
    }
   },
   "outputs": [],
   "source": [
    "#df.at[0,\"ISO_code\"]= \"AFG\"\n",
    "#df.at[37,\"ISO_code\"]= \"CUB\"\n",
    "#df.at[111,\"ISO_code\"]= \"PRK\"\n",
    "#df.at[154,\"ISO_code\"]= \"TKM\"\n",
    "#df.at[161,\"ISO_code\"]= \"UZB\"\n",
    "#df.at[0,\"Region\"]= \"South Asia\"\n",
    "#df.at[37,\"Region\"]= \"Latin America & the Caribbean\"\n",
    "#df.at[111,\"Region\"]= \"East Asia\"\n",
    "#df.at[154,\"Region\"]= \"Caucasus & Central Asia\"\n",
    "#df.at[161,\"Region\"]= \"Caucasus & Central Asia\""
   ]
  },
  {
   "cell_type": "markdown",
   "metadata": {},
   "source": [
    "#### <center> Because in every score of the dataframe the higher value is the \"better\" value except for Gender_equality, I change it by creating a new column"
   ]
  },
  {
   "cell_type": "code",
   "execution_count": 73,
   "metadata": {},
   "outputs": [],
   "source": [
    "df.eval('Gend_Eq = (1 - GendEqual) * 10', inplace = True) # creating a new columnn and skaling the score as I wish it to be\n",
    "df.drop('GendEqual', inplace=True, axis=1) # dropping the old column"
   ]
  },
  {
   "cell_type": "markdown",
   "metadata": {},
   "source": [
    "## <center> My dataframe is now ready and i save it as \"df.csv\""
   ]
  },
  {
   "cell_type": "code",
   "execution_count": 74,
   "metadata": {},
   "outputs": [],
   "source": [
    "# saving my finished dataframe as df.csv, so i can use it for my analysis notebook \n",
    "df.to_csv(\"df.csv\")"
   ]
  },
  {
   "cell_type": "markdown",
   "metadata": {},
   "source": [
    "## <center>First Part is finished\n",
    "#### <center> REMINDER: This dataset turned at last out to be unsuitable for my analysis. I decided not use it would be better than to use it only because I created it. \n",
    "#### <center> And I need it for my second part, so the work was not completly useless."
   ]
  },
  {
   "cell_type": "markdown",
   "metadata": {},
   "source": [
    "# <center> ---------------------------------- Second Part ----------------------------------"
   ]
  },
  {
   "cell_type": "markdown",
   "metadata": {},
   "source": [
    "### <center>In this part I create a dataframe to merge it later with the Happiness-Index dataset.\n",
    "### <center>This step enables me to examine the Happiness Index for regions as well"
   ]
  },
  {
   "cell_type": "code",
   "execution_count": 75,
   "metadata": {},
   "outputs": [],
   "source": [
    "# First I create a new dataset with the three columns I need \n",
    "df_region = df[[\"Country\", \"Region\", \"ISO_code\"]]"
   ]
  },
  {
   "cell_type": "code",
   "execution_count": 76,
   "metadata": {},
   "outputs": [
    {
     "data": {
      "text/plain": [
       "(162, 3)"
      ]
     },
     "execution_count": 76,
     "metadata": {},
     "output_type": "execute_result"
    }
   ],
   "source": [
    "df_region.shape"
   ]
  },
  {
   "cell_type": "markdown",
   "metadata": {},
   "source": [
    "### <center>Now I have to adapt some different Countrynames to the notation of the Happiness-Index"
   ]
  },
  {
   "cell_type": "code",
   "execution_count": 77,
   "metadata": {},
   "outputs": [],
   "source": [
    "df_region.at[37,\"Country\"]= \"Czech Republic\"\n",
    "df_region.at[142,\"Country\"]= \"Taiwan\"\n",
    "df_region.at[62,\"Country\"]= \"Hong Kong\"\n",
    "df_region.at[109,\"Country\"]= \"North Macedonia\"\n",
    "df_region.at[121,\"Country\"]= \"Congo (Brazzaville)\"\n",
    "df_region.at[38,\"Country\"]= \"Congo (Kinshasa)\"\n",
    "df_region.at[45,\"Country\"]= \"Swaziland\"\n",
    "df_region.at[148,\"Country\"]= \"Trinidad & Tobago\"\n",
    "#df_region = df_region.sort_values(by=['Country'], ascending=True)"
   ]
  },
  {
   "cell_type": "markdown",
   "metadata": {},
   "source": [
    "#### <center> Filling my new dataset with missing countries and ISO-Code"
   ]
  },
  {
   "cell_type": "code",
   "execution_count": 78,
   "metadata": {},
   "outputs": [
    {
     "name": "stderr",
     "output_type": "stream",
     "text": [
      "/opt/anaconda3/lib/python3.8/site-packages/pandas/core/indexing.py:671: SettingWithCopyWarning: \n",
      "A value is trying to be set on a copy of a slice from a DataFrame\n",
      "\n",
      "See the caveats in the documentation: https://pandas.pydata.org/pandas-docs/stable/user_guide/indexing.html#returning-a-view-versus-a-copy\n",
      "  self._setitem_with_indexer(indexer, value)\n"
     ]
    }
   ],
   "source": [
    "df_region.loc[162]=[ \"Uzbekistan\", \"Caucasus & Central Asia\", \"UZB\"]\n",
    "df_region.loc[163]=[ \"Turkmenistan\", \"Caucasus & Central Asia\", \"TKM\"]\n",
    "df_region.loc[164]=[ \"Northern Cyprus\", \"Eastern Europe\", \"CYP\"]\n",
    "df_region.loc[165]=[ \"Kosovo\", \"Eastern Europe\", \"XXK\"]\n",
    "df_region.loc[166]=[ \"Somalia\", \"Sub-Saharan Africa\", \"SOM\"]\n",
    "df_region.loc[167]=[ \"Palestinian Territories\", \"Middle East & North Africa\", \"PSE\"]\n",
    "df_region.loc[168]=[ \"Afghanistan\", \"South Asia\", \"AFG\"]\n",
    "df_region.loc[169]=[ \"South Sudan\", \"Sub-Saharan Africa\", \"SSD\"]\n",
    "df_region.loc[170]=[ \"Gambia\", \"Sub-Saharan Africa\", \"GMB\"]\n",
    "df_region.loc[171]=[ \"Comoros\", \"Sub-Saharan Africa\", \"COM\"]\n",
    "# The warning has no influence, it worked like I wanted"
   ]
  },
  {
   "cell_type": "code",
   "execution_count": 79,
   "metadata": {},
   "outputs": [
    {
     "name": "stdout",
     "output_type": "stream",
     "text": [
      "<class 'pandas.core.frame.DataFrame'>\n",
      "Int64Index: 172 entries, 0 to 171\n",
      "Data columns (total 3 columns):\n",
      " #   Column    Non-Null Count  Dtype \n",
      "---  ------    --------------  ----- \n",
      " 0   Country   172 non-null    object\n",
      " 1   Region    172 non-null    object\n",
      " 2   ISO_code  172 non-null    object\n",
      "dtypes: object(3)\n",
      "memory usage: 5.4+ KB\n"
     ]
    }
   ],
   "source": [
    "# Looking for missing values\n",
    "df_region.info()"
   ]
  },
  {
   "cell_type": "markdown",
   "metadata": {},
   "source": [
    "## <center> My dataframe for the regions is now ready and i save it as \"df_region.csv\""
   ]
  },
  {
   "cell_type": "code",
   "execution_count": 80,
   "metadata": {},
   "outputs": [],
   "source": [
    "df_region.to_csv(\"df_region.csv\")"
   ]
  },
  {
   "cell_type": "markdown",
   "metadata": {},
   "source": [
    "## <center> The dataframe \"df_region\" will be merged with the Happiness Index Dataset\n",
    "#### <center>go to\n",
    "## <center>Capstone-Notebook"
   ]
  },
  {
   "cell_type": "markdown",
   "metadata": {},
   "source": [
    "# <center> ---------------------------------- End of this notebook ----------------------------------"
   ]
  },
  {
   "cell_type": "code",
   "execution_count": null,
   "metadata": {},
   "outputs": [],
   "source": []
  }
 ],
 "metadata": {
  "kernelspec": {
   "display_name": "Python 3",
   "language": "python",
   "name": "python3"
  },
  "language_info": {
   "codemirror_mode": {
    "name": "ipython",
    "version": 3
   },
   "file_extension": ".py",
   "mimetype": "text/x-python",
   "name": "python",
   "nbconvert_exporter": "python",
   "pygments_lexer": "ipython3",
   "version": "3.8.3"
  }
 },
 "nbformat": 4,
 "nbformat_minor": 4
}
